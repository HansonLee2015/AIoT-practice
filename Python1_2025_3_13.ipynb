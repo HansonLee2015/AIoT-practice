{
  "nbformat": 4,
  "nbformat_minor": 0,
  "metadata": {
    "colab": {
      "provenance": [],
      "authorship_tag": "ABX9TyOE1ojkkN9pJ80NwceOA524",
      "include_colab_link": true
    },
    "kernelspec": {
      "name": "python3",
      "display_name": "Python 3"
    },
    "language_info": {
      "name": "python"
    }
  },
  "cells": [
    {
      "cell_type": "markdown",
      "metadata": {
        "id": "view-in-github",
        "colab_type": "text"
      },
      "source": [
        "<a href=\"https://colab.research.google.com/github/HansonLee2015/AIoT-practice/blob/main/Python1_2025_3_13.ipynb\" target=\"_parent\"><img src=\"https://colab.research.google.com/assets/colab-badge.svg\" alt=\"Open In Colab\"/></a>"
      ]
    },
    {
      "cell_type": "code",
      "execution_count": null,
      "metadata": {
        "id": "uXltgCoQywCW"
      },
      "outputs": [],
      "source": []
    },
    {
      "cell_type": "code",
      "source": [
        "import keyword\n",
        "print(keyword.kwlist)"
      ],
      "metadata": {
        "id": "qKjpBRFk20dj",
        "colab": {
          "base_uri": "https://localhost:8080/"
        },
        "outputId": "7509e187-81c1-4854-cdab-be49724773fb"
      },
      "execution_count": null,
      "outputs": [
        {
          "output_type": "stream",
          "name": "stdout",
          "text": [
            "['False', 'None', 'True', 'and', 'as', 'assert', 'async', 'await', 'break', 'class', 'continue', 'def', 'del', 'elif', 'else', 'except', 'finally', 'for', 'from', 'global', 'if', 'import', 'in', 'is', 'lambda', 'nonlocal', 'not', 'or', 'pass', 'raise', 'return', 'try', 'while', 'with', 'yield']\n"
          ]
        }
      ]
    },
    {
      "cell_type": "code",
      "source": [
        "import copy\n",
        "import numpy\n",
        "list1 = [[1, 2, 3], [4, 5, 6]]\n",
        "# list2 = copy.copy(list1)\n",
        "list2 = copy.deepcopy(list1)\n",
        "# list 2 = list 1\n",
        "list2[0][0] = 99\n",
        "\n",
        "print (\"list1:\", list1)\n",
        "print(\"list2:\", list2)\n",
        "print(numpy.array(list).shape)"
      ],
      "metadata": {
        "colab": {
          "base_uri": "https://localhost:8080/"
        },
        "id": "ZO6W50xZ4ojq",
        "outputId": "2fc84f46-08cd-4dea-a414-52a523ab6733"
      },
      "execution_count": null,
      "outputs": [
        {
          "output_type": "stream",
          "name": "stdout",
          "text": [
            "list1: [[1, 2, 3], [4, 5, 6]]\n",
            "list2: [[99, 2, 3], [4, 5, 6]]\n",
            "()\n"
          ]
        }
      ]
    },
    {
      "cell_type": "code",
      "source": [
        "x, y, z = 1, 2, 3\n",
        "x = y = z\n",
        "print(x, y, z)"
      ],
      "metadata": {
        "colab": {
          "base_uri": "https://localhost:8080/"
        },
        "id": "vBkgCYJw6gSM",
        "outputId": "003e15a5-2690-4a4c-9219-950d5a2492df"
      },
      "execution_count": null,
      "outputs": [
        {
          "output_type": "stream",
          "name": "stdout",
          "text": [
            "3 3 3\n"
          ]
        }
      ]
    },
    {
      "cell_type": "code",
      "source": [
        "numbers = [1, 2, 3]\n",
        "numbers.append(4)\n",
        "print(numbers) #[1, 2, 3, 4]\n",
        "#append報告會用到"
      ],
      "metadata": {
        "colab": {
          "base_uri": "https://localhost:8080/"
        },
        "id": "UeH48amO7rdx",
        "outputId": "fa85b830-1317-4326-937c-568c64c3526a"
      },
      "execution_count": null,
      "outputs": [
        {
          "output_type": "stream",
          "name": "stdout",
          "text": [
            "[1, 2, 3, 4]\n"
          ]
        }
      ]
    },
    {
      "cell_type": "code",
      "source": [
        "a = [1, 2, 3]\n",
        "b = [4, 5, 6]\n",
        "a.extend(b)\n",
        "print(a)"
      ],
      "metadata": {
        "colab": {
          "base_uri": "https://localhost:8080/"
        },
        "id": "PESp5tL873Up",
        "outputId": "62e886bb-97c1-4069-e641-ce387fd062fb"
      },
      "execution_count": null,
      "outputs": [
        {
          "output_type": "stream",
          "name": "stdout",
          "text": [
            "[1, 2, 3, 4, 5, 6]\n"
          ]
        }
      ]
    },
    {
      "cell_type": "code",
      "source": [
        " l = [1, 2, 3, 4]\n",
        " index = 0, 1, 2, 3\n",
        "#  l[0] = 1\n",
        "#  l[0] = 2"
      ],
      "metadata": {
        "id": "xwyPb9VR8019"
      },
      "execution_count": null,
      "outputs": []
    },
    {
      "cell_type": "code",
      "source": [
        "fruits = ['apple', 'banana']\n",
        "fruits.insert(1, 'orange')\n",
        "print(fruits) #['apple', 'orange', 'banana']"
      ],
      "metadata": {
        "colab": {
          "base_uri": "https://localhost:8080/"
        },
        "id": "WNFq12Da_URf",
        "outputId": "fbd815d4-db3a-41dd-ee41-01bb78832bb0"
      },
      "execution_count": null,
      "outputs": [
        {
          "output_type": "stream",
          "name": "stdout",
          "text": [
            "['apple', 'orange', 'banana']\n"
          ]
        }
      ]
    },
    {
      "cell_type": "code",
      "source": [
        "numbers = [1, 2, 3, 2, 4]\n",
        "numbers.remove(1)\n",
        "print(numbers) #[1, 3, 2, 4]\n",
        "#(只刪除第一個2)"
      ],
      "metadata": {
        "colab": {
          "base_uri": "https://localhost:8080/"
        },
        "id": "4HZz18uxAF0Z",
        "outputId": "d3e26894-c93a-4fdf-b30f-3205b6aaccb6"
      },
      "execution_count": null,
      "outputs": [
        {
          "output_type": "stream",
          "name": "stdout",
          "text": [
            "[2, 3, 2, 4]\n"
          ]
        }
      ]
    },
    {
      "cell_type": "code",
      "source": [
        "numbers = [1, 2, 3, 4]\n",
        "last = numbers.pop()\n",
        "print(numbers) #[1, 2, 3]\n",
        "print(last) #4"
      ],
      "metadata": {
        "colab": {
          "base_uri": "https://localhost:8080/"
        },
        "id": "E_BBnAdqAwvm",
        "outputId": "a95c3c3d-e266-4a2f-8f98-618190fbf359"
      },
      "execution_count": null,
      "outputs": [
        {
          "output_type": "stream",
          "name": "stdout",
          "text": [
            "[1, 2, 3]\n",
            "4\n"
          ]
        }
      ]
    },
    {
      "cell_type": "code",
      "source": [
        "numbers = [10, 20, 30, 40]\n",
        "print(numbers.index(30)) #2"
      ],
      "metadata": {
        "colab": {
          "base_uri": "https://localhost:8080/"
        },
        "id": "mNqhzCQtBhL4",
        "outputId": "215db2e1-f187-4a94-862d-496f84fd5be0"
      },
      "execution_count": null,
      "outputs": [
        {
          "output_type": "stream",
          "name": "stdout",
          "text": [
            "2\n"
          ]
        }
      ]
    },
    {
      "cell_type": "markdown",
      "source": [
        "count"
      ],
      "metadata": {
        "id": "LwQTah3bETOF"
      }
    },
    {
      "cell_type": "code",
      "source": [
        "numbers = [1, 2, 3, 2, 4, 2]\n",
        "print(numbers.count(2)) #3"
      ],
      "metadata": {
        "colab": {
          "base_uri": "https://localhost:8080/"
        },
        "id": "ZNC0RoFfDxLT",
        "outputId": "c0015a55-8d63-453a-8342-0fb479c15079"
      },
      "execution_count": null,
      "outputs": [
        {
          "output_type": "stream",
          "name": "stdout",
          "text": [
            "3\n"
          ]
        }
      ]
    },
    {
      "cell_type": "code",
      "source": [
        "numbers = [5, 2, 9, 1]\n",
        "numbers.sort()\n",
        "print(numbers)\n",
        "\n",
        "numbers.sort(reverse=True)\n",
        "print(numbers) # [9, 5, 2, 1] (降序)"
      ],
      "metadata": {
        "colab": {
          "base_uri": "https://localhost:8080/"
        },
        "id": "EwLVuEIiEeKF",
        "outputId": "528d2e4d-8e9b-4897-dc95-e746275de2c9"
      },
      "execution_count": null,
      "outputs": [
        {
          "output_type": "stream",
          "name": "stdout",
          "text": [
            "[1, 2, 5, 9]\n",
            "[9, 5, 2, 1]\n"
          ]
        }
      ]
    },
    {
      "cell_type": "code",
      "source": [
        "numbers = [5, 2, 9, 1]\n",
        "numbers.sort()\n",
        "print(numbers)\n",
        "\n",
        "numbers.sort(reverse=1)\n",
        "print(numbers) # [9, 5, 2, 1] (降序)"
      ],
      "metadata": {
        "colab": {
          "base_uri": "https://localhost:8080/"
        },
        "id": "1BdVklugFxkn",
        "outputId": "09198748-f149-4d3d-b370-46f212cd1358"
      },
      "execution_count": null,
      "outputs": [
        {
          "output_type": "stream",
          "name": "stdout",
          "text": [
            "[1, 2, 5, 9]\n",
            "[9, 5, 2, 1]\n"
          ]
        }
      ]
    },
    {
      "cell_type": "code",
      "source": [
        "letters = ['a', 'b', 'c']\n",
        "letters.reverse()\n",
        "print(letters) #['c', 'b', 'a']"
      ],
      "metadata": {
        "colab": {
          "base_uri": "https://localhost:8080/"
        },
        "id": "p3SluqmrGDPW",
        "outputId": "67aabf66-66b7-4e52-f2a1-6b3eba2f55d2"
      },
      "execution_count": null,
      "outputs": [
        {
          "output_type": "stream",
          "name": "stdout",
          "text": [
            "['c', 'b', 'a']\n"
          ]
        }
      ]
    },
    {
      "cell_type": "markdown",
      "source": [
        "重要"
      ],
      "metadata": {
        "id": "QKi8u024Hd8s"
      }
    },
    {
      "cell_type": "code",
      "source": [
        "numbers = [10, 20, 30]\n",
        "print(len(numbers))\n"
      ],
      "metadata": {
        "colab": {
          "base_uri": "https://localhost:8080/"
        },
        "id": "epplaOeYG2Ja",
        "outputId": "0bfcf9f2-4108-4bf0-ac05-7505773002b2"
      },
      "execution_count": null,
      "outputs": [
        {
          "output_type": "stream",
          "name": "stdout",
          "text": [
            "3\n"
          ]
        }
      ]
    },
    {
      "cell_type": "code",
      "source": [
        "numbers = [10, 20, 30]\n",
        "print(sum(numbers))"
      ],
      "metadata": {
        "colab": {
          "base_uri": "https://localhost:8080/"
        },
        "id": "6g_F4c9cHUK1",
        "outputId": "85ac278f-33bb-4b5a-bcd2-b39db56b6529"
      },
      "execution_count": null,
      "outputs": [
        {
          "output_type": "stream",
          "name": "stdout",
          "text": [
            "60\n"
          ]
        }
      ]
    },
    {
      "cell_type": "code",
      "source": [
        "numbers = [10, 20, 30]\n",
        "print(max(numbers))\n",
        "print(min(numbers))"
      ],
      "metadata": {
        "colab": {
          "base_uri": "https://localhost:8080/"
        },
        "id": "NKtVOzbeHjm-",
        "outputId": "2da436c8-97b8-4cb2-a1b0-22320dd71c8c"
      },
      "execution_count": null,
      "outputs": [
        {
          "output_type": "stream",
          "name": "stdout",
          "text": [
            "30\n",
            "10\n"
          ]
        }
      ]
    },
    {
      "cell_type": "code",
      "source": [],
      "metadata": {
        "id": "EtKG8ajEJ7r2"
      },
      "execution_count": null,
      "outputs": []
    },
    {
      "cell_type": "code",
      "source": [
        "words = ['Hello', 'World']\n",
        "sentences = '//'.join(words)\n",
        "print(sentences)"
      ],
      "metadata": {
        "colab": {
          "base_uri": "https://localhost:8080/"
        },
        "id": "rn63Nb49HmDt",
        "outputId": "f9f2e13e-aafa-4dfd-b08f-7ae71aa1c6a4"
      },
      "execution_count": null,
      "outputs": [
        {
          "output_type": "stream",
          "name": "stdout",
          "text": [
            "Hello//World\n"
          ]
        }
      ]
    },
    {
      "cell_type": "markdown",
      "source": [
        "這個出錯是正常的，要像下面那樣調整"
      ],
      "metadata": {
        "id": "o4GgDdr0LEO3"
      }
    },
    {
      "cell_type": "code",
      "source": [
        "if cost > 2000:\n",
        "  cost = cost * 0.95\n",
        "  print (\"折扣金額為：\", cost)"
      ],
      "metadata": {
        "colab": {
          "base_uri": "https://localhost:8080/",
          "height": 187
        },
        "id": "4BKuTv6FHvA3",
        "outputId": "3f3e1d28-f56e-41a9-a237-9063eba42a57"
      },
      "execution_count": null,
      "outputs": [
        {
          "output_type": "error",
          "ename": "NameError",
          "evalue": "name 'cost' is not defined",
          "traceback": [
            "\u001b[0;31m---------------------------------------------------------------------------\u001b[0m",
            "\u001b[0;31mNameError\u001b[0m                                 Traceback (most recent call last)",
            "\u001b[0;32m<ipython-input-42-a2c3f45346c9>\u001b[0m in \u001b[0;36m<cell line: 0>\u001b[0;34m()\u001b[0m\n\u001b[0;32m----> 1\u001b[0;31m \u001b[0;32mif\u001b[0m \u001b[0mcost\u001b[0m \u001b[0;34m>\u001b[0m \u001b[0;36m2000\u001b[0m\u001b[0;34m:\u001b[0m\u001b[0;34m\u001b[0m\u001b[0;34m\u001b[0m\u001b[0m\n\u001b[0m\u001b[1;32m      2\u001b[0m   \u001b[0mcost\u001b[0m \u001b[0;34m=\u001b[0m \u001b[0mcost\u001b[0m \u001b[0;34m*\u001b[0m \u001b[0;36m0.95\u001b[0m\u001b[0;34m\u001b[0m\u001b[0;34m\u001b[0m\u001b[0m\n\u001b[1;32m      3\u001b[0m   \u001b[0mprint\u001b[0m \u001b[0;34m(\u001b[0m\u001b[0;34m\"折扣金額為：\"\u001b[0m\u001b[0;34m,\u001b[0m \u001b[0mcost\u001b[0m\u001b[0;34m)\u001b[0m\u001b[0;34m\u001b[0m\u001b[0;34m\u001b[0m\u001b[0m\n",
            "\u001b[0;31mNameError\u001b[0m: name 'cost' is not defined"
          ]
        }
      ]
    },
    {
      "cell_type": "code",
      "source": [
        "cost = 3000\n",
        "if cost > 2000:\n",
        "  cost = cost * 0.75\n",
        "  print(cost)"
      ],
      "metadata": {
        "colab": {
          "base_uri": "https://localhost:8080/"
        },
        "id": "bh_-R9YZKKF0",
        "outputId": "45fc6bc1-66a7-480a-cc98-e38a56d72207"
      },
      "execution_count": null,
      "outputs": [
        {
          "output_type": "stream",
          "name": "stdout",
          "text": [
            "2250.0\n"
          ]
        }
      ]
    },
    {
      "cell_type": "code",
      "source": [
        "data = int(input('輸入一個整數：'))\n",
        "if data > 2000:\n",
        "  print (data, '大於2000')\n",
        "else:\n",
        "  print(data, '小於等於2000')"
      ],
      "metadata": {
        "colab": {
          "base_uri": "https://localhost:8080/"
        },
        "id": "uRxi6BJ3LC0x",
        "outputId": "c7473b5b-e109-4fe0-95f7-f2abad251eac"
      },
      "execution_count": null,
      "outputs": [
        {
          "output_type": "stream",
          "name": "stdout",
          "text": [
            "輸入一個整數：500\n",
            "500 小於等於2000\n"
          ]
        }
      ]
    },
    {
      "cell_type": "markdown",
      "source": [
        "2025.3.5"
      ],
      "metadata": {
        "id": "Llf3jsse3wl7"
      }
    },
    {
      "cell_type": "markdown",
      "source": [
        "= 指定\n",
        "== equal等於"
      ],
      "metadata": {
        "id": "bAlTU9k08RYL"
      }
    },
    {
      "cell_type": "code",
      "source": [
        "import pandas as pd\n",
        "file_path = \"test.xlsx\"\n",
        "df = pd.read_excel(file_path)\n",
        "df2 = pd.read_excel('2020~2021_call_1.xlsx')\n",
        "df2"
      ],
      "metadata": {
        "id": "q7-7fl0UMes2",
        "colab": {
          "base_uri": "https://localhost:8080/",
          "height": 1000
        },
        "outputId": "4951dc31-0e80-4625-adbd-5d35aef7bb57"
      },
      "execution_count": null,
      "outputs": [
        {
          "output_type": "execute_result",
          "data": {
            "text/plain": [
              "                        會員編號       編號               會員姓名       Call In/Out 日期  \\\n",
              "0      C1030000005865         C102027  王九妹                2020-01-02 00:00:00   \n",
              "1      C1031201882750         C107093  沈莉娟                2020-01-02 00:00:00   \n",
              "2      C1030000005865         C102027  王九妹                2020-01-02 00:00:00   \n",
              "3      C1030000005865         C102027  王九妹                2020-01-02 00:00:00   \n",
              "4      C1011101244476         C102027  蘇靖雯                2020-01-02 00:00:00   \n",
              "...                      ...      ...                ...                  ...   \n",
              "89031  C0990100108266         C109054  陳玉卿                2021-12-30 00:00:00   \n",
              "89032  C20200705140           C109054  陳雅青                2021-12-30 00:00:00   \n",
              "89033  C1051201284774         C109054  蔡家穎                2021-12-30 00:00:00   \n",
              "89034  C1041001336605         C104170  姜念劬                2021-12-30 00:00:00   \n",
              "89035  C0990100211959         C109054  張禎修                2021-12-30 00:00:00   \n",
              "\n",
              "           開始時間      結束時間 通話時間(秒)  通話狀態1         通話狀態2  \n",
              "0      10:03:17  10:03:17       0  推薦舊產品        沒聯絡上本人  \n",
              "1      10:12:57  10:14:42     105   關心聯絡          到貨確認  \n",
              "2      10:38:08  10:38:08       0  推薦舊產品        沒聯絡上本人  \n",
              "3      11:45:41  11:45:41       0  推薦舊產品        沒聯絡上本人  \n",
              "4      14:30:59  14:31:50      51  推薦舊產品     其他(請詳填備註)  \n",
              "...         ...       ...     ...    ...           ...  \n",
              "89031  17:49:10  17:49:10       0   關心聯絡        沒聯絡上本人  \n",
              "89032  17:53:29  17:53:29       0   關心聯絡        沒聯絡上本人  \n",
              "89033  17:55:52  17:55:52       0   關心聯絡        沒聯絡上本人  \n",
              "89034  17:57:32  18:24:37    1625   關心聯絡  關心寒暄(OB-下訂單)  \n",
              "89035  17:58:52  17:58:52       0   關心聯絡        沒聯絡上本人  \n",
              "\n",
              "[89036 rows x 9 columns]"
            ],
            "text/html": [
              "\n",
              "  <div id=\"df-384e0e43-c79b-4073-a0ed-c1c45769799b\" class=\"colab-df-container\">\n",
              "    <div>\n",
              "<style scoped>\n",
              "    .dataframe tbody tr th:only-of-type {\n",
              "        vertical-align: middle;\n",
              "    }\n",
              "\n",
              "    .dataframe tbody tr th {\n",
              "        vertical-align: top;\n",
              "    }\n",
              "\n",
              "    .dataframe thead th {\n",
              "        text-align: right;\n",
              "    }\n",
              "</style>\n",
              "<table border=\"1\" class=\"dataframe\">\n",
              "  <thead>\n",
              "    <tr style=\"text-align: right;\">\n",
              "      <th></th>\n",
              "      <th>會員編號</th>\n",
              "      <th>編號</th>\n",
              "      <th>會員姓名</th>\n",
              "      <th>Call In/Out 日期</th>\n",
              "      <th>開始時間</th>\n",
              "      <th>結束時間</th>\n",
              "      <th>通話時間(秒)</th>\n",
              "      <th>通話狀態1</th>\n",
              "      <th>通話狀態2</th>\n",
              "    </tr>\n",
              "  </thead>\n",
              "  <tbody>\n",
              "    <tr>\n",
              "      <th>0</th>\n",
              "      <td>C1030000005865</td>\n",
              "      <td>C102027</td>\n",
              "      <td>王九妹</td>\n",
              "      <td>2020-01-02 00:00:00</td>\n",
              "      <td>10:03:17</td>\n",
              "      <td>10:03:17</td>\n",
              "      <td>0</td>\n",
              "      <td>推薦舊產品</td>\n",
              "      <td>沒聯絡上本人</td>\n",
              "    </tr>\n",
              "    <tr>\n",
              "      <th>1</th>\n",
              "      <td>C1031201882750</td>\n",
              "      <td>C107093</td>\n",
              "      <td>沈莉娟</td>\n",
              "      <td>2020-01-02 00:00:00</td>\n",
              "      <td>10:12:57</td>\n",
              "      <td>10:14:42</td>\n",
              "      <td>105</td>\n",
              "      <td>關心聯絡</td>\n",
              "      <td>到貨確認</td>\n",
              "    </tr>\n",
              "    <tr>\n",
              "      <th>2</th>\n",
              "      <td>C1030000005865</td>\n",
              "      <td>C102027</td>\n",
              "      <td>王九妹</td>\n",
              "      <td>2020-01-02 00:00:00</td>\n",
              "      <td>10:38:08</td>\n",
              "      <td>10:38:08</td>\n",
              "      <td>0</td>\n",
              "      <td>推薦舊產品</td>\n",
              "      <td>沒聯絡上本人</td>\n",
              "    </tr>\n",
              "    <tr>\n",
              "      <th>3</th>\n",
              "      <td>C1030000005865</td>\n",
              "      <td>C102027</td>\n",
              "      <td>王九妹</td>\n",
              "      <td>2020-01-02 00:00:00</td>\n",
              "      <td>11:45:41</td>\n",
              "      <td>11:45:41</td>\n",
              "      <td>0</td>\n",
              "      <td>推薦舊產品</td>\n",
              "      <td>沒聯絡上本人</td>\n",
              "    </tr>\n",
              "    <tr>\n",
              "      <th>4</th>\n",
              "      <td>C1011101244476</td>\n",
              "      <td>C102027</td>\n",
              "      <td>蘇靖雯</td>\n",
              "      <td>2020-01-02 00:00:00</td>\n",
              "      <td>14:30:59</td>\n",
              "      <td>14:31:50</td>\n",
              "      <td>51</td>\n",
              "      <td>推薦舊產品</td>\n",
              "      <td>其他(請詳填備註)</td>\n",
              "    </tr>\n",
              "    <tr>\n",
              "      <th>...</th>\n",
              "      <td>...</td>\n",
              "      <td>...</td>\n",
              "      <td>...</td>\n",
              "      <td>...</td>\n",
              "      <td>...</td>\n",
              "      <td>...</td>\n",
              "      <td>...</td>\n",
              "      <td>...</td>\n",
              "      <td>...</td>\n",
              "    </tr>\n",
              "    <tr>\n",
              "      <th>89031</th>\n",
              "      <td>C0990100108266</td>\n",
              "      <td>C109054</td>\n",
              "      <td>陳玉卿</td>\n",
              "      <td>2021-12-30 00:00:00</td>\n",
              "      <td>17:49:10</td>\n",
              "      <td>17:49:10</td>\n",
              "      <td>0</td>\n",
              "      <td>關心聯絡</td>\n",
              "      <td>沒聯絡上本人</td>\n",
              "    </tr>\n",
              "    <tr>\n",
              "      <th>89032</th>\n",
              "      <td>C20200705140</td>\n",
              "      <td>C109054</td>\n",
              "      <td>陳雅青</td>\n",
              "      <td>2021-12-30 00:00:00</td>\n",
              "      <td>17:53:29</td>\n",
              "      <td>17:53:29</td>\n",
              "      <td>0</td>\n",
              "      <td>關心聯絡</td>\n",
              "      <td>沒聯絡上本人</td>\n",
              "    </tr>\n",
              "    <tr>\n",
              "      <th>89033</th>\n",
              "      <td>C1051201284774</td>\n",
              "      <td>C109054</td>\n",
              "      <td>蔡家穎</td>\n",
              "      <td>2021-12-30 00:00:00</td>\n",
              "      <td>17:55:52</td>\n",
              "      <td>17:55:52</td>\n",
              "      <td>0</td>\n",
              "      <td>關心聯絡</td>\n",
              "      <td>沒聯絡上本人</td>\n",
              "    </tr>\n",
              "    <tr>\n",
              "      <th>89034</th>\n",
              "      <td>C1041001336605</td>\n",
              "      <td>C104170</td>\n",
              "      <td>姜念劬</td>\n",
              "      <td>2021-12-30 00:00:00</td>\n",
              "      <td>17:57:32</td>\n",
              "      <td>18:24:37</td>\n",
              "      <td>1625</td>\n",
              "      <td>關心聯絡</td>\n",
              "      <td>關心寒暄(OB-下訂單)</td>\n",
              "    </tr>\n",
              "    <tr>\n",
              "      <th>89035</th>\n",
              "      <td>C0990100211959</td>\n",
              "      <td>C109054</td>\n",
              "      <td>張禎修</td>\n",
              "      <td>2021-12-30 00:00:00</td>\n",
              "      <td>17:58:52</td>\n",
              "      <td>17:58:52</td>\n",
              "      <td>0</td>\n",
              "      <td>關心聯絡</td>\n",
              "      <td>沒聯絡上本人</td>\n",
              "    </tr>\n",
              "  </tbody>\n",
              "</table>\n",
              "<p>89036 rows × 9 columns</p>\n",
              "</div>\n",
              "    <div class=\"colab-df-buttons\">\n",
              "\n",
              "  <div class=\"colab-df-container\">\n",
              "    <button class=\"colab-df-convert\" onclick=\"convertToInteractive('df-384e0e43-c79b-4073-a0ed-c1c45769799b')\"\n",
              "            title=\"Convert this dataframe to an interactive table.\"\n",
              "            style=\"display:none;\">\n",
              "\n",
              "  <svg xmlns=\"http://www.w3.org/2000/svg\" height=\"24px\" viewBox=\"0 -960 960 960\">\n",
              "    <path d=\"M120-120v-720h720v720H120Zm60-500h600v-160H180v160Zm220 220h160v-160H400v160Zm0 220h160v-160H400v160ZM180-400h160v-160H180v160Zm440 0h160v-160H620v160ZM180-180h160v-160H180v160Zm440 0h160v-160H620v160Z\"/>\n",
              "  </svg>\n",
              "    </button>\n",
              "\n",
              "  <style>\n",
              "    .colab-df-container {\n",
              "      display:flex;\n",
              "      gap: 12px;\n",
              "    }\n",
              "\n",
              "    .colab-df-convert {\n",
              "      background-color: #E8F0FE;\n",
              "      border: none;\n",
              "      border-radius: 50%;\n",
              "      cursor: pointer;\n",
              "      display: none;\n",
              "      fill: #1967D2;\n",
              "      height: 32px;\n",
              "      padding: 0 0 0 0;\n",
              "      width: 32px;\n",
              "    }\n",
              "\n",
              "    .colab-df-convert:hover {\n",
              "      background-color: #E2EBFA;\n",
              "      box-shadow: 0px 1px 2px rgba(60, 64, 67, 0.3), 0px 1px 3px 1px rgba(60, 64, 67, 0.15);\n",
              "      fill: #174EA6;\n",
              "    }\n",
              "\n",
              "    .colab-df-buttons div {\n",
              "      margin-bottom: 4px;\n",
              "    }\n",
              "\n",
              "    [theme=dark] .colab-df-convert {\n",
              "      background-color: #3B4455;\n",
              "      fill: #D2E3FC;\n",
              "    }\n",
              "\n",
              "    [theme=dark] .colab-df-convert:hover {\n",
              "      background-color: #434B5C;\n",
              "      box-shadow: 0px 1px 3px 1px rgba(0, 0, 0, 0.15);\n",
              "      filter: drop-shadow(0px 1px 2px rgba(0, 0, 0, 0.3));\n",
              "      fill: #FFFFFF;\n",
              "    }\n",
              "  </style>\n",
              "\n",
              "    <script>\n",
              "      const buttonEl =\n",
              "        document.querySelector('#df-384e0e43-c79b-4073-a0ed-c1c45769799b button.colab-df-convert');\n",
              "      buttonEl.style.display =\n",
              "        google.colab.kernel.accessAllowed ? 'block' : 'none';\n",
              "\n",
              "      async function convertToInteractive(key) {\n",
              "        const element = document.querySelector('#df-384e0e43-c79b-4073-a0ed-c1c45769799b');\n",
              "        const dataTable =\n",
              "          await google.colab.kernel.invokeFunction('convertToInteractive',\n",
              "                                                    [key], {});\n",
              "        if (!dataTable) return;\n",
              "\n",
              "        const docLinkHtml = 'Like what you see? Visit the ' +\n",
              "          '<a target=\"_blank\" href=https://colab.research.google.com/notebooks/data_table.ipynb>data table notebook</a>'\n",
              "          + ' to learn more about interactive tables.';\n",
              "        element.innerHTML = '';\n",
              "        dataTable['output_type'] = 'display_data';\n",
              "        await google.colab.output.renderOutput(dataTable, element);\n",
              "        const docLink = document.createElement('div');\n",
              "        docLink.innerHTML = docLinkHtml;\n",
              "        element.appendChild(docLink);\n",
              "      }\n",
              "    </script>\n",
              "  </div>\n",
              "\n",
              "\n",
              "<div id=\"df-993489a4-1978-4e22-8ede-87a606eae236\">\n",
              "  <button class=\"colab-df-quickchart\" onclick=\"quickchart('df-993489a4-1978-4e22-8ede-87a606eae236')\"\n",
              "            title=\"Suggest charts\"\n",
              "            style=\"display:none;\">\n",
              "\n",
              "<svg xmlns=\"http://www.w3.org/2000/svg\" height=\"24px\"viewBox=\"0 0 24 24\"\n",
              "     width=\"24px\">\n",
              "    <g>\n",
              "        <path d=\"M19 3H5c-1.1 0-2 .9-2 2v14c0 1.1.9 2 2 2h14c1.1 0 2-.9 2-2V5c0-1.1-.9-2-2-2zM9 17H7v-7h2v7zm4 0h-2V7h2v10zm4 0h-2v-4h2v4z\"/>\n",
              "    </g>\n",
              "</svg>\n",
              "  </button>\n",
              "\n",
              "<style>\n",
              "  .colab-df-quickchart {\n",
              "      --bg-color: #E8F0FE;\n",
              "      --fill-color: #1967D2;\n",
              "      --hover-bg-color: #E2EBFA;\n",
              "      --hover-fill-color: #174EA6;\n",
              "      --disabled-fill-color: #AAA;\n",
              "      --disabled-bg-color: #DDD;\n",
              "  }\n",
              "\n",
              "  [theme=dark] .colab-df-quickchart {\n",
              "      --bg-color: #3B4455;\n",
              "      --fill-color: #D2E3FC;\n",
              "      --hover-bg-color: #434B5C;\n",
              "      --hover-fill-color: #FFFFFF;\n",
              "      --disabled-bg-color: #3B4455;\n",
              "      --disabled-fill-color: #666;\n",
              "  }\n",
              "\n",
              "  .colab-df-quickchart {\n",
              "    background-color: var(--bg-color);\n",
              "    border: none;\n",
              "    border-radius: 50%;\n",
              "    cursor: pointer;\n",
              "    display: none;\n",
              "    fill: var(--fill-color);\n",
              "    height: 32px;\n",
              "    padding: 0;\n",
              "    width: 32px;\n",
              "  }\n",
              "\n",
              "  .colab-df-quickchart:hover {\n",
              "    background-color: var(--hover-bg-color);\n",
              "    box-shadow: 0 1px 2px rgba(60, 64, 67, 0.3), 0 1px 3px 1px rgba(60, 64, 67, 0.15);\n",
              "    fill: var(--button-hover-fill-color);\n",
              "  }\n",
              "\n",
              "  .colab-df-quickchart-complete:disabled,\n",
              "  .colab-df-quickchart-complete:disabled:hover {\n",
              "    background-color: var(--disabled-bg-color);\n",
              "    fill: var(--disabled-fill-color);\n",
              "    box-shadow: none;\n",
              "  }\n",
              "\n",
              "  .colab-df-spinner {\n",
              "    border: 2px solid var(--fill-color);\n",
              "    border-color: transparent;\n",
              "    border-bottom-color: var(--fill-color);\n",
              "    animation:\n",
              "      spin 1s steps(1) infinite;\n",
              "  }\n",
              "\n",
              "  @keyframes spin {\n",
              "    0% {\n",
              "      border-color: transparent;\n",
              "      border-bottom-color: var(--fill-color);\n",
              "      border-left-color: var(--fill-color);\n",
              "    }\n",
              "    20% {\n",
              "      border-color: transparent;\n",
              "      border-left-color: var(--fill-color);\n",
              "      border-top-color: var(--fill-color);\n",
              "    }\n",
              "    30% {\n",
              "      border-color: transparent;\n",
              "      border-left-color: var(--fill-color);\n",
              "      border-top-color: var(--fill-color);\n",
              "      border-right-color: var(--fill-color);\n",
              "    }\n",
              "    40% {\n",
              "      border-color: transparent;\n",
              "      border-right-color: var(--fill-color);\n",
              "      border-top-color: var(--fill-color);\n",
              "    }\n",
              "    60% {\n",
              "      border-color: transparent;\n",
              "      border-right-color: var(--fill-color);\n",
              "    }\n",
              "    80% {\n",
              "      border-color: transparent;\n",
              "      border-right-color: var(--fill-color);\n",
              "      border-bottom-color: var(--fill-color);\n",
              "    }\n",
              "    90% {\n",
              "      border-color: transparent;\n",
              "      border-bottom-color: var(--fill-color);\n",
              "    }\n",
              "  }\n",
              "</style>\n",
              "\n",
              "  <script>\n",
              "    async function quickchart(key) {\n",
              "      const quickchartButtonEl =\n",
              "        document.querySelector('#' + key + ' button');\n",
              "      quickchartButtonEl.disabled = true;  // To prevent multiple clicks.\n",
              "      quickchartButtonEl.classList.add('colab-df-spinner');\n",
              "      try {\n",
              "        const charts = await google.colab.kernel.invokeFunction(\n",
              "            'suggestCharts', [key], {});\n",
              "      } catch (error) {\n",
              "        console.error('Error during call to suggestCharts:', error);\n",
              "      }\n",
              "      quickchartButtonEl.classList.remove('colab-df-spinner');\n",
              "      quickchartButtonEl.classList.add('colab-df-quickchart-complete');\n",
              "    }\n",
              "    (() => {\n",
              "      let quickchartButtonEl =\n",
              "        document.querySelector('#df-993489a4-1978-4e22-8ede-87a606eae236 button');\n",
              "      quickchartButtonEl.style.display =\n",
              "        google.colab.kernel.accessAllowed ? 'block' : 'none';\n",
              "    })();\n",
              "  </script>\n",
              "</div>\n",
              "\n",
              "  <div id=\"id_4197359b-833b-48fd-b289-38d0eb0f7dba\">\n",
              "    <style>\n",
              "      .colab-df-generate {\n",
              "        background-color: #E8F0FE;\n",
              "        border: none;\n",
              "        border-radius: 50%;\n",
              "        cursor: pointer;\n",
              "        display: none;\n",
              "        fill: #1967D2;\n",
              "        height: 32px;\n",
              "        padding: 0 0 0 0;\n",
              "        width: 32px;\n",
              "      }\n",
              "\n",
              "      .colab-df-generate:hover {\n",
              "        background-color: #E2EBFA;\n",
              "        box-shadow: 0px 1px 2px rgba(60, 64, 67, 0.3), 0px 1px 3px 1px rgba(60, 64, 67, 0.15);\n",
              "        fill: #174EA6;\n",
              "      }\n",
              "\n",
              "      [theme=dark] .colab-df-generate {\n",
              "        background-color: #3B4455;\n",
              "        fill: #D2E3FC;\n",
              "      }\n",
              "\n",
              "      [theme=dark] .colab-df-generate:hover {\n",
              "        background-color: #434B5C;\n",
              "        box-shadow: 0px 1px 3px 1px rgba(0, 0, 0, 0.15);\n",
              "        filter: drop-shadow(0px 1px 2px rgba(0, 0, 0, 0.3));\n",
              "        fill: #FFFFFF;\n",
              "      }\n",
              "    </style>\n",
              "    <button class=\"colab-df-generate\" onclick=\"generateWithVariable('df2')\"\n",
              "            title=\"Generate code using this dataframe.\"\n",
              "            style=\"display:none;\">\n",
              "\n",
              "  <svg xmlns=\"http://www.w3.org/2000/svg\" height=\"24px\"viewBox=\"0 0 24 24\"\n",
              "       width=\"24px\">\n",
              "    <path d=\"M7,19H8.4L18.45,9,17,7.55,7,17.6ZM5,21V16.75L18.45,3.32a2,2,0,0,1,2.83,0l1.4,1.43a1.91,1.91,0,0,1,.58,1.4,1.91,1.91,0,0,1-.58,1.4L9.25,21ZM18.45,9,17,7.55Zm-12,3A5.31,5.31,0,0,0,4.9,8.1,5.31,5.31,0,0,0,1,6.5,5.31,5.31,0,0,0,4.9,4.9,5.31,5.31,0,0,0,6.5,1,5.31,5.31,0,0,0,8.1,4.9,5.31,5.31,0,0,0,12,6.5,5.46,5.46,0,0,0,6.5,12Z\"/>\n",
              "  </svg>\n",
              "    </button>\n",
              "    <script>\n",
              "      (() => {\n",
              "      const buttonEl =\n",
              "        document.querySelector('#id_4197359b-833b-48fd-b289-38d0eb0f7dba button.colab-df-generate');\n",
              "      buttonEl.style.display =\n",
              "        google.colab.kernel.accessAllowed ? 'block' : 'none';\n",
              "\n",
              "      buttonEl.onclick = () => {\n",
              "        google.colab.notebook.generateWithVariable('df2');\n",
              "      }\n",
              "      })();\n",
              "    </script>\n",
              "  </div>\n",
              "\n",
              "    </div>\n",
              "  </div>\n"
            ],
            "application/vnd.google.colaboratory.intrinsic+json": {
              "type": "dataframe",
              "variable_name": "df2",
              "summary": "{\n  \"name\": \"df2\",\n  \"rows\": 89036,\n  \"fields\": [\n    {\n      \"column\": \"\\u6703\\u54e1\\u7de8\\u865f\",\n      \"properties\": {\n        \"dtype\": \"category\",\n        \"num_unique_values\": 38722,\n        \"samples\": [\n          \"C1041001303553       \",\n          \"C1020701054897       \",\n          \"C1031201842761       \"\n        ],\n        \"semantic_type\": \"\",\n        \"description\": \"\"\n      }\n    },\n    {\n      \"column\": \"\\u7de8\\u865f\",\n      \"properties\": {\n        \"dtype\": \"category\",\n        \"num_unique_values\": 12,\n        \"samples\": [\n          \"C110032\",\n          \"C110033\",\n          \"C102027\"\n        ],\n        \"semantic_type\": \"\",\n        \"description\": \"\"\n      }\n    },\n    {\n      \"column\": \"\\u6703\\u54e1\\u59d3\\u540d\",\n      \"properties\": {\n        \"dtype\": \"category\",\n        \"num_unique_values\": 35206,\n        \"samples\": [\n          \"\\u5433\\u4f73\\u6a3a              \",\n          \"\\u6797\\u751f\\u57fa              \",\n          \"\\u738b\\u912d\\u6dd1\\u60e0            \"\n        ],\n        \"semantic_type\": \"\",\n        \"description\": \"\"\n      }\n    },\n    {\n      \"column\": \"Call In/Out \\u65e5\\u671f\",\n      \"properties\": {\n        \"dtype\": \"date\",\n        \"min\": \"1970-01-01 00:00:00\",\n        \"max\": \"2021-12-30 00:00:00\",\n        \"num_unique_values\": 556,\n        \"samples\": [\n          \"2021-09-13 00:00:00\",\n          \"2020-08-18 00:00:00\",\n          \"2020-03-20 00:00:00\"\n        ],\n        \"semantic_type\": \"\",\n        \"description\": \"\"\n      }\n    },\n    {\n      \"column\": \"\\u958b\\u59cb\\u6642\\u9593\",\n      \"properties\": {\n        \"dtype\": \"category\",\n        \"num_unique_values\": 27882,\n        \"samples\": [\n          \"13:50:44\",\n          \"15:23:04\",\n          \"19:17:27\"\n        ],\n        \"semantic_type\": \"\",\n        \"description\": \"\"\n      }\n    },\n    {\n      \"column\": \"\\u7d50\\u675f\\u6642\\u9593\",\n      \"properties\": {\n        \"dtype\": \"category\",\n        \"num_unique_values\": 27911,\n        \"samples\": [\n          \"11:40:09\",\n          \"10:58:40\",\n          \"15:11:05\"\n        ],\n        \"semantic_type\": \"\",\n        \"description\": \"\"\n      }\n    },\n    {\n      \"column\": \"\\u901a\\u8a71\\u6642\\u9593(\\u79d2)\",\n      \"properties\": {\n        \"dtype\": \"category\",\n        \"num_unique_values\": 1317,\n        \"samples\": [\n          \"C1010201085453       \",\n          1778,\n          770\n        ],\n        \"semantic_type\": \"\",\n        \"description\": \"\"\n      }\n    },\n    {\n      \"column\": \"\\u901a\\u8a71\\u72c0\\u614b1\",\n      \"properties\": {\n        \"dtype\": \"category\",\n        \"num_unique_values\": 4,\n        \"samples\": [\n          \"\\u95dc\\u5fc3\\u806f\\u7d61\",\n          \"\\u63a8\\u85a6\\u65b0\\u7522\\u54c1\",\n          \"\\u63a8\\u85a6\\u820a\\u7522\\u54c1\"\n        ],\n        \"semantic_type\": \"\",\n        \"description\": \"\"\n      }\n    },\n    {\n      \"column\": \"\\u901a\\u8a71\\u72c0\\u614b2\",\n      \"properties\": {\n        \"dtype\": \"category\",\n        \"num_unique_values\": 35,\n        \"samples\": [\n          \"\\u7fd2\\u6163\\u5728\\u7db2\\u8def\\u8cfc\\u8cb7\",\n          \"\\u6539\\u8cb7\\u5225\\u5bb6\\u54c1\\u724c(\\u8acb\\u8a73\\u586b\\u5099\\u8a3b)\",\n          \"\\u6c92\\u6709\\u610f\\u898b\"\n        ],\n        \"semantic_type\": \"\",\n        \"description\": \"\"\n      }\n    }\n  ]\n}"
            }
          },
          "metadata": {},
          "execution_count": 16
        }
      ]
    },
    {
      "cell_type": "code",
      "source": [
        "import pandas as pd\n",
        "file_path = \"test.xlsx\"\n",
        "df = pd.read_excel(file_path)\n",
        "df2 = pd.read_excel('2020~2021_call_1.xlsx')\n",
        "print(df)\n",
        "print(df2)"
      ],
      "metadata": {
        "colab": {
          "base_uri": "https://localhost:8080/"
        },
        "id": "nNt_oYot9AYn",
        "outputId": "282f6293-2a03-4097-b160-9524b3f1a596"
      },
      "execution_count": null,
      "outputs": [
        {
          "output_type": "stream",
          "name": "stdout",
          "text": [
            "               會員編號\n",
            "0    C1031201268066\n",
            "1    C0980100043223\n",
            "2    C1051201373270\n",
            "3    C0990100115387\n",
            "4    C8101000017547\n",
            "..              ...\n",
            "478  C1020701180541\n",
            "479  C1011101039232\n",
            "480  C1030000015239\n",
            "481    C20190315021\n",
            "482  C1041001435728\n",
            "\n",
            "[483 rows x 1 columns]\n",
            "                        會員編號       編號               會員姓名       Call In/Out 日期  \\\n",
            "0      C1030000005865         C102027  王九妹                2020-01-02 00:00:00   \n",
            "1      C1031201882750         C107093  沈莉娟                2020-01-02 00:00:00   \n",
            "2      C1030000005865         C102027  王九妹                2020-01-02 00:00:00   \n",
            "3      C1030000005865         C102027  王九妹                2020-01-02 00:00:00   \n",
            "4      C1011101244476         C102027  蘇靖雯                2020-01-02 00:00:00   \n",
            "...                      ...      ...                ...                  ...   \n",
            "89031  C0990100108266         C109054  陳玉卿                2021-12-30 00:00:00   \n",
            "89032  C20200705140           C109054  陳雅青                2021-12-30 00:00:00   \n",
            "89033  C1051201284774         C109054  蔡家穎                2021-12-30 00:00:00   \n",
            "89034  C1041001336605         C104170  姜念劬                2021-12-30 00:00:00   \n",
            "89035  C0990100211959         C109054  張禎修                2021-12-30 00:00:00   \n",
            "\n",
            "           開始時間      結束時間 通話時間(秒)  通話狀態1         通話狀態2  \n",
            "0      10:03:17  10:03:17       0  推薦舊產品        沒聯絡上本人  \n",
            "1      10:12:57  10:14:42     105   關心聯絡          到貨確認  \n",
            "2      10:38:08  10:38:08       0  推薦舊產品        沒聯絡上本人  \n",
            "3      11:45:41  11:45:41       0  推薦舊產品        沒聯絡上本人  \n",
            "4      14:30:59  14:31:50      51  推薦舊產品     其他(請詳填備註)  \n",
            "...         ...       ...     ...    ...           ...  \n",
            "89031  17:49:10  17:49:10       0   關心聯絡        沒聯絡上本人  \n",
            "89032  17:53:29  17:53:29       0   關心聯絡        沒聯絡上本人  \n",
            "89033  17:55:52  17:55:52       0   關心聯絡        沒聯絡上本人  \n",
            "89034  17:57:32  18:24:37    1625   關心聯絡  關心寒暄(OB-下訂單)  \n",
            "89035  17:58:52  17:58:52       0   關心聯絡        沒聯絡上本人  \n",
            "\n",
            "[89036 rows x 9 columns]\n"
          ]
        }
      ]
    },
    {
      "cell_type": "code",
      "source": [
        "import pandas as pd\n",
        "file_path = \"test.xlsx\"\n",
        "df = pd.read_excel(file_path)\n",
        "print(df)"
      ],
      "metadata": {
        "colab": {
          "base_uri": "https://localhost:8080/"
        },
        "id": "Y-7XjMxb7Vyp",
        "outputId": "b04dece3-ebd5-477e-a3df-cd3d5fad6382"
      },
      "execution_count": null,
      "outputs": [
        {
          "output_type": "stream",
          "name": "stdout",
          "text": [
            "               會員編號\n",
            "0    C1031201268066\n",
            "1    C0980100043223\n",
            "2    C1051201373270\n",
            "3    C0990100115387\n",
            "4    C8101000017547\n",
            "..              ...\n",
            "478  C1020701180541\n",
            "479  C1011101039232\n",
            "480  C1030000015239\n",
            "481    C20190315021\n",
            "482  C1041001435728\n",
            "\n",
            "[483 rows x 1 columns]\n"
          ]
        }
      ]
    },
    {
      "cell_type": "code",
      "source": [
        "import pandas as pd\n",
        "file_path = \"test.xlsx\"\n",
        "df = pd.read_excel(file_path)\n",
        "df"
      ],
      "metadata": {
        "colab": {
          "base_uri": "https://localhost:8080/",
          "height": 423
        },
        "id": "xG3iS-D471PB",
        "outputId": "1b91d4a7-9283-4f27-d5ff-3eb7def6f182"
      },
      "execution_count": null,
      "outputs": [
        {
          "output_type": "execute_result",
          "data": {
            "text/plain": [
              "               會員編號\n",
              "0    C1031201268066\n",
              "1    C0980100043223\n",
              "2    C1051201373270\n",
              "3    C0990100115387\n",
              "4    C8101000017547\n",
              "..              ...\n",
              "478  C1020701180541\n",
              "479  C1011101039232\n",
              "480  C1030000015239\n",
              "481    C20190315021\n",
              "482  C1041001435728\n",
              "\n",
              "[483 rows x 1 columns]"
            ],
            "text/html": [
              "\n",
              "  <div id=\"df-6eba9d75-0d8f-4656-97a0-94774bd6c969\" class=\"colab-df-container\">\n",
              "    <div>\n",
              "<style scoped>\n",
              "    .dataframe tbody tr th:only-of-type {\n",
              "        vertical-align: middle;\n",
              "    }\n",
              "\n",
              "    .dataframe tbody tr th {\n",
              "        vertical-align: top;\n",
              "    }\n",
              "\n",
              "    .dataframe thead th {\n",
              "        text-align: right;\n",
              "    }\n",
              "</style>\n",
              "<table border=\"1\" class=\"dataframe\">\n",
              "  <thead>\n",
              "    <tr style=\"text-align: right;\">\n",
              "      <th></th>\n",
              "      <th>會員編號</th>\n",
              "    </tr>\n",
              "  </thead>\n",
              "  <tbody>\n",
              "    <tr>\n",
              "      <th>0</th>\n",
              "      <td>C1031201268066</td>\n",
              "    </tr>\n",
              "    <tr>\n",
              "      <th>1</th>\n",
              "      <td>C0980100043223</td>\n",
              "    </tr>\n",
              "    <tr>\n",
              "      <th>2</th>\n",
              "      <td>C1051201373270</td>\n",
              "    </tr>\n",
              "    <tr>\n",
              "      <th>3</th>\n",
              "      <td>C0990100115387</td>\n",
              "    </tr>\n",
              "    <tr>\n",
              "      <th>4</th>\n",
              "      <td>C8101000017547</td>\n",
              "    </tr>\n",
              "    <tr>\n",
              "      <th>...</th>\n",
              "      <td>...</td>\n",
              "    </tr>\n",
              "    <tr>\n",
              "      <th>478</th>\n",
              "      <td>C1020701180541</td>\n",
              "    </tr>\n",
              "    <tr>\n",
              "      <th>479</th>\n",
              "      <td>C1011101039232</td>\n",
              "    </tr>\n",
              "    <tr>\n",
              "      <th>480</th>\n",
              "      <td>C1030000015239</td>\n",
              "    </tr>\n",
              "    <tr>\n",
              "      <th>481</th>\n",
              "      <td>C20190315021</td>\n",
              "    </tr>\n",
              "    <tr>\n",
              "      <th>482</th>\n",
              "      <td>C1041001435728</td>\n",
              "    </tr>\n",
              "  </tbody>\n",
              "</table>\n",
              "<p>483 rows × 1 columns</p>\n",
              "</div>\n",
              "    <div class=\"colab-df-buttons\">\n",
              "\n",
              "  <div class=\"colab-df-container\">\n",
              "    <button class=\"colab-df-convert\" onclick=\"convertToInteractive('df-6eba9d75-0d8f-4656-97a0-94774bd6c969')\"\n",
              "            title=\"Convert this dataframe to an interactive table.\"\n",
              "            style=\"display:none;\">\n",
              "\n",
              "  <svg xmlns=\"http://www.w3.org/2000/svg\" height=\"24px\" viewBox=\"0 -960 960 960\">\n",
              "    <path d=\"M120-120v-720h720v720H120Zm60-500h600v-160H180v160Zm220 220h160v-160H400v160Zm0 220h160v-160H400v160ZM180-400h160v-160H180v160Zm440 0h160v-160H620v160ZM180-180h160v-160H180v160Zm440 0h160v-160H620v160Z\"/>\n",
              "  </svg>\n",
              "    </button>\n",
              "\n",
              "  <style>\n",
              "    .colab-df-container {\n",
              "      display:flex;\n",
              "      gap: 12px;\n",
              "    }\n",
              "\n",
              "    .colab-df-convert {\n",
              "      background-color: #E8F0FE;\n",
              "      border: none;\n",
              "      border-radius: 50%;\n",
              "      cursor: pointer;\n",
              "      display: none;\n",
              "      fill: #1967D2;\n",
              "      height: 32px;\n",
              "      padding: 0 0 0 0;\n",
              "      width: 32px;\n",
              "    }\n",
              "\n",
              "    .colab-df-convert:hover {\n",
              "      background-color: #E2EBFA;\n",
              "      box-shadow: 0px 1px 2px rgba(60, 64, 67, 0.3), 0px 1px 3px 1px rgba(60, 64, 67, 0.15);\n",
              "      fill: #174EA6;\n",
              "    }\n",
              "\n",
              "    .colab-df-buttons div {\n",
              "      margin-bottom: 4px;\n",
              "    }\n",
              "\n",
              "    [theme=dark] .colab-df-convert {\n",
              "      background-color: #3B4455;\n",
              "      fill: #D2E3FC;\n",
              "    }\n",
              "\n",
              "    [theme=dark] .colab-df-convert:hover {\n",
              "      background-color: #434B5C;\n",
              "      box-shadow: 0px 1px 3px 1px rgba(0, 0, 0, 0.15);\n",
              "      filter: drop-shadow(0px 1px 2px rgba(0, 0, 0, 0.3));\n",
              "      fill: #FFFFFF;\n",
              "    }\n",
              "  </style>\n",
              "\n",
              "    <script>\n",
              "      const buttonEl =\n",
              "        document.querySelector('#df-6eba9d75-0d8f-4656-97a0-94774bd6c969 button.colab-df-convert');\n",
              "      buttonEl.style.display =\n",
              "        google.colab.kernel.accessAllowed ? 'block' : 'none';\n",
              "\n",
              "      async function convertToInteractive(key) {\n",
              "        const element = document.querySelector('#df-6eba9d75-0d8f-4656-97a0-94774bd6c969');\n",
              "        const dataTable =\n",
              "          await google.colab.kernel.invokeFunction('convertToInteractive',\n",
              "                                                    [key], {});\n",
              "        if (!dataTable) return;\n",
              "\n",
              "        const docLinkHtml = 'Like what you see? Visit the ' +\n",
              "          '<a target=\"_blank\" href=https://colab.research.google.com/notebooks/data_table.ipynb>data table notebook</a>'\n",
              "          + ' to learn more about interactive tables.';\n",
              "        element.innerHTML = '';\n",
              "        dataTable['output_type'] = 'display_data';\n",
              "        await google.colab.output.renderOutput(dataTable, element);\n",
              "        const docLink = document.createElement('div');\n",
              "        docLink.innerHTML = docLinkHtml;\n",
              "        element.appendChild(docLink);\n",
              "      }\n",
              "    </script>\n",
              "  </div>\n",
              "\n",
              "\n",
              "<div id=\"df-b619c6cd-edeb-4d2b-bb41-3d7d84179e8c\">\n",
              "  <button class=\"colab-df-quickchart\" onclick=\"quickchart('df-b619c6cd-edeb-4d2b-bb41-3d7d84179e8c')\"\n",
              "            title=\"Suggest charts\"\n",
              "            style=\"display:none;\">\n",
              "\n",
              "<svg xmlns=\"http://www.w3.org/2000/svg\" height=\"24px\"viewBox=\"0 0 24 24\"\n",
              "     width=\"24px\">\n",
              "    <g>\n",
              "        <path d=\"M19 3H5c-1.1 0-2 .9-2 2v14c0 1.1.9 2 2 2h14c1.1 0 2-.9 2-2V5c0-1.1-.9-2-2-2zM9 17H7v-7h2v7zm4 0h-2V7h2v10zm4 0h-2v-4h2v4z\"/>\n",
              "    </g>\n",
              "</svg>\n",
              "  </button>\n",
              "\n",
              "<style>\n",
              "  .colab-df-quickchart {\n",
              "      --bg-color: #E8F0FE;\n",
              "      --fill-color: #1967D2;\n",
              "      --hover-bg-color: #E2EBFA;\n",
              "      --hover-fill-color: #174EA6;\n",
              "      --disabled-fill-color: #AAA;\n",
              "      --disabled-bg-color: #DDD;\n",
              "  }\n",
              "\n",
              "  [theme=dark] .colab-df-quickchart {\n",
              "      --bg-color: #3B4455;\n",
              "      --fill-color: #D2E3FC;\n",
              "      --hover-bg-color: #434B5C;\n",
              "      --hover-fill-color: #FFFFFF;\n",
              "      --disabled-bg-color: #3B4455;\n",
              "      --disabled-fill-color: #666;\n",
              "  }\n",
              "\n",
              "  .colab-df-quickchart {\n",
              "    background-color: var(--bg-color);\n",
              "    border: none;\n",
              "    border-radius: 50%;\n",
              "    cursor: pointer;\n",
              "    display: none;\n",
              "    fill: var(--fill-color);\n",
              "    height: 32px;\n",
              "    padding: 0;\n",
              "    width: 32px;\n",
              "  }\n",
              "\n",
              "  .colab-df-quickchart:hover {\n",
              "    background-color: var(--hover-bg-color);\n",
              "    box-shadow: 0 1px 2px rgba(60, 64, 67, 0.3), 0 1px 3px 1px rgba(60, 64, 67, 0.15);\n",
              "    fill: var(--button-hover-fill-color);\n",
              "  }\n",
              "\n",
              "  .colab-df-quickchart-complete:disabled,\n",
              "  .colab-df-quickchart-complete:disabled:hover {\n",
              "    background-color: var(--disabled-bg-color);\n",
              "    fill: var(--disabled-fill-color);\n",
              "    box-shadow: none;\n",
              "  }\n",
              "\n",
              "  .colab-df-spinner {\n",
              "    border: 2px solid var(--fill-color);\n",
              "    border-color: transparent;\n",
              "    border-bottom-color: var(--fill-color);\n",
              "    animation:\n",
              "      spin 1s steps(1) infinite;\n",
              "  }\n",
              "\n",
              "  @keyframes spin {\n",
              "    0% {\n",
              "      border-color: transparent;\n",
              "      border-bottom-color: var(--fill-color);\n",
              "      border-left-color: var(--fill-color);\n",
              "    }\n",
              "    20% {\n",
              "      border-color: transparent;\n",
              "      border-left-color: var(--fill-color);\n",
              "      border-top-color: var(--fill-color);\n",
              "    }\n",
              "    30% {\n",
              "      border-color: transparent;\n",
              "      border-left-color: var(--fill-color);\n",
              "      border-top-color: var(--fill-color);\n",
              "      border-right-color: var(--fill-color);\n",
              "    }\n",
              "    40% {\n",
              "      border-color: transparent;\n",
              "      border-right-color: var(--fill-color);\n",
              "      border-top-color: var(--fill-color);\n",
              "    }\n",
              "    60% {\n",
              "      border-color: transparent;\n",
              "      border-right-color: var(--fill-color);\n",
              "    }\n",
              "    80% {\n",
              "      border-color: transparent;\n",
              "      border-right-color: var(--fill-color);\n",
              "      border-bottom-color: var(--fill-color);\n",
              "    }\n",
              "    90% {\n",
              "      border-color: transparent;\n",
              "      border-bottom-color: var(--fill-color);\n",
              "    }\n",
              "  }\n",
              "</style>\n",
              "\n",
              "  <script>\n",
              "    async function quickchart(key) {\n",
              "      const quickchartButtonEl =\n",
              "        document.querySelector('#' + key + ' button');\n",
              "      quickchartButtonEl.disabled = true;  // To prevent multiple clicks.\n",
              "      quickchartButtonEl.classList.add('colab-df-spinner');\n",
              "      try {\n",
              "        const charts = await google.colab.kernel.invokeFunction(\n",
              "            'suggestCharts', [key], {});\n",
              "      } catch (error) {\n",
              "        console.error('Error during call to suggestCharts:', error);\n",
              "      }\n",
              "      quickchartButtonEl.classList.remove('colab-df-spinner');\n",
              "      quickchartButtonEl.classList.add('colab-df-quickchart-complete');\n",
              "    }\n",
              "    (() => {\n",
              "      let quickchartButtonEl =\n",
              "        document.querySelector('#df-b619c6cd-edeb-4d2b-bb41-3d7d84179e8c button');\n",
              "      quickchartButtonEl.style.display =\n",
              "        google.colab.kernel.accessAllowed ? 'block' : 'none';\n",
              "    })();\n",
              "  </script>\n",
              "</div>\n",
              "\n",
              "  <div id=\"id_9a427f47-7c9a-4432-ad8f-be13b74f2881\">\n",
              "    <style>\n",
              "      .colab-df-generate {\n",
              "        background-color: #E8F0FE;\n",
              "        border: none;\n",
              "        border-radius: 50%;\n",
              "        cursor: pointer;\n",
              "        display: none;\n",
              "        fill: #1967D2;\n",
              "        height: 32px;\n",
              "        padding: 0 0 0 0;\n",
              "        width: 32px;\n",
              "      }\n",
              "\n",
              "      .colab-df-generate:hover {\n",
              "        background-color: #E2EBFA;\n",
              "        box-shadow: 0px 1px 2px rgba(60, 64, 67, 0.3), 0px 1px 3px 1px rgba(60, 64, 67, 0.15);\n",
              "        fill: #174EA6;\n",
              "      }\n",
              "\n",
              "      [theme=dark] .colab-df-generate {\n",
              "        background-color: #3B4455;\n",
              "        fill: #D2E3FC;\n",
              "      }\n",
              "\n",
              "      [theme=dark] .colab-df-generate:hover {\n",
              "        background-color: #434B5C;\n",
              "        box-shadow: 0px 1px 3px 1px rgba(0, 0, 0, 0.15);\n",
              "        filter: drop-shadow(0px 1px 2px rgba(0, 0, 0, 0.3));\n",
              "        fill: #FFFFFF;\n",
              "      }\n",
              "    </style>\n",
              "    <button class=\"colab-df-generate\" onclick=\"generateWithVariable('df')\"\n",
              "            title=\"Generate code using this dataframe.\"\n",
              "            style=\"display:none;\">\n",
              "\n",
              "  <svg xmlns=\"http://www.w3.org/2000/svg\" height=\"24px\"viewBox=\"0 0 24 24\"\n",
              "       width=\"24px\">\n",
              "    <path d=\"M7,19H8.4L18.45,9,17,7.55,7,17.6ZM5,21V16.75L18.45,3.32a2,2,0,0,1,2.83,0l1.4,1.43a1.91,1.91,0,0,1,.58,1.4,1.91,1.91,0,0,1-.58,1.4L9.25,21ZM18.45,9,17,7.55Zm-12,3A5.31,5.31,0,0,0,4.9,8.1,5.31,5.31,0,0,0,1,6.5,5.31,5.31,0,0,0,4.9,4.9,5.31,5.31,0,0,0,6.5,1,5.31,5.31,0,0,0,8.1,4.9,5.31,5.31,0,0,0,12,6.5,5.46,5.46,0,0,0,6.5,12Z\"/>\n",
              "  </svg>\n",
              "    </button>\n",
              "    <script>\n",
              "      (() => {\n",
              "      const buttonEl =\n",
              "        document.querySelector('#id_9a427f47-7c9a-4432-ad8f-be13b74f2881 button.colab-df-generate');\n",
              "      buttonEl.style.display =\n",
              "        google.colab.kernel.accessAllowed ? 'block' : 'none';\n",
              "\n",
              "      buttonEl.onclick = () => {\n",
              "        google.colab.notebook.generateWithVariable('df');\n",
              "      }\n",
              "      })();\n",
              "    </script>\n",
              "  </div>\n",
              "\n",
              "    </div>\n",
              "  </div>\n"
            ],
            "application/vnd.google.colaboratory.intrinsic+json": {
              "type": "dataframe",
              "variable_name": "df",
              "summary": "{\n  \"name\": \"df\",\n  \"rows\": 483,\n  \"fields\": [\n    {\n      \"column\": \"\\u6703\\u54e1\\u7de8\\u865f\",\n      \"properties\": {\n        \"dtype\": \"string\",\n        \"num_unique_values\": 483,\n        \"samples\": [\n          \"C1020701047530\",\n          \"C1000100615103\",\n          \"C1051201096629\"\n        ],\n        \"semantic_type\": \"\",\n        \"description\": \"\"\n      }\n    }\n  ]\n}"
            }
          },
          "metadata": {},
          "execution_count": 18
        }
      ]
    },
    {
      "cell_type": "code",
      "source": [
        "import pandas as pd\n",
        "file_path = \"2020~2021_call_1.xlsx\"\n",
        "df = pd.read_excel(file_path)\n",
        "df"
      ],
      "metadata": {
        "colab": {
          "base_uri": "https://localhost:8080/",
          "height": 1000
        },
        "id": "IZnCByRG5bSd",
        "outputId": "1e1f3cdc-6cfe-4901-ff8f-dc57f478c16a"
      },
      "execution_count": null,
      "outputs": [
        {
          "output_type": "execute_result",
          "data": {
            "text/plain": [
              "                        會員編號       編號               會員姓名       Call In/Out 日期  \\\n",
              "0      C1030000005865         C102027  王九妹                2020-01-02 00:00:00   \n",
              "1      C1031201882750         C107093  沈莉娟                2020-01-02 00:00:00   \n",
              "2      C1030000005865         C102027  王九妹                2020-01-02 00:00:00   \n",
              "3      C1030000005865         C102027  王九妹                2020-01-02 00:00:00   \n",
              "4      C1011101244476         C102027  蘇靖雯                2020-01-02 00:00:00   \n",
              "...                      ...      ...                ...                  ...   \n",
              "89031  C0990100108266         C109054  陳玉卿                2021-12-30 00:00:00   \n",
              "89032  C20200705140           C109054  陳雅青                2021-12-30 00:00:00   \n",
              "89033  C1051201284774         C109054  蔡家穎                2021-12-30 00:00:00   \n",
              "89034  C1041001336605         C104170  姜念劬                2021-12-30 00:00:00   \n",
              "89035  C0990100211959         C109054  張禎修                2021-12-30 00:00:00   \n",
              "\n",
              "           開始時間      結束時間 通話時間(秒)  通話狀態1         通話狀態2  \n",
              "0      10:03:17  10:03:17       0  推薦舊產品        沒聯絡上本人  \n",
              "1      10:12:57  10:14:42     105   關心聯絡          到貨確認  \n",
              "2      10:38:08  10:38:08       0  推薦舊產品        沒聯絡上本人  \n",
              "3      11:45:41  11:45:41       0  推薦舊產品        沒聯絡上本人  \n",
              "4      14:30:59  14:31:50      51  推薦舊產品     其他(請詳填備註)  \n",
              "...         ...       ...     ...    ...           ...  \n",
              "89031  17:49:10  17:49:10       0   關心聯絡        沒聯絡上本人  \n",
              "89032  17:53:29  17:53:29       0   關心聯絡        沒聯絡上本人  \n",
              "89033  17:55:52  17:55:52       0   關心聯絡        沒聯絡上本人  \n",
              "89034  17:57:32  18:24:37    1625   關心聯絡  關心寒暄(OB-下訂單)  \n",
              "89035  17:58:52  17:58:52       0   關心聯絡        沒聯絡上本人  \n",
              "\n",
              "[89036 rows x 9 columns]"
            ],
            "text/html": [
              "\n",
              "  <div id=\"df-4ac657cc-f50d-42c2-945d-28927fe64738\" class=\"colab-df-container\">\n",
              "    <div>\n",
              "<style scoped>\n",
              "    .dataframe tbody tr th:only-of-type {\n",
              "        vertical-align: middle;\n",
              "    }\n",
              "\n",
              "    .dataframe tbody tr th {\n",
              "        vertical-align: top;\n",
              "    }\n",
              "\n",
              "    .dataframe thead th {\n",
              "        text-align: right;\n",
              "    }\n",
              "</style>\n",
              "<table border=\"1\" class=\"dataframe\">\n",
              "  <thead>\n",
              "    <tr style=\"text-align: right;\">\n",
              "      <th></th>\n",
              "      <th>會員編號</th>\n",
              "      <th>編號</th>\n",
              "      <th>會員姓名</th>\n",
              "      <th>Call In/Out 日期</th>\n",
              "      <th>開始時間</th>\n",
              "      <th>結束時間</th>\n",
              "      <th>通話時間(秒)</th>\n",
              "      <th>通話狀態1</th>\n",
              "      <th>通話狀態2</th>\n",
              "    </tr>\n",
              "  </thead>\n",
              "  <tbody>\n",
              "    <tr>\n",
              "      <th>0</th>\n",
              "      <td>C1030000005865</td>\n",
              "      <td>C102027</td>\n",
              "      <td>王九妹</td>\n",
              "      <td>2020-01-02 00:00:00</td>\n",
              "      <td>10:03:17</td>\n",
              "      <td>10:03:17</td>\n",
              "      <td>0</td>\n",
              "      <td>推薦舊產品</td>\n",
              "      <td>沒聯絡上本人</td>\n",
              "    </tr>\n",
              "    <tr>\n",
              "      <th>1</th>\n",
              "      <td>C1031201882750</td>\n",
              "      <td>C107093</td>\n",
              "      <td>沈莉娟</td>\n",
              "      <td>2020-01-02 00:00:00</td>\n",
              "      <td>10:12:57</td>\n",
              "      <td>10:14:42</td>\n",
              "      <td>105</td>\n",
              "      <td>關心聯絡</td>\n",
              "      <td>到貨確認</td>\n",
              "    </tr>\n",
              "    <tr>\n",
              "      <th>2</th>\n",
              "      <td>C1030000005865</td>\n",
              "      <td>C102027</td>\n",
              "      <td>王九妹</td>\n",
              "      <td>2020-01-02 00:00:00</td>\n",
              "      <td>10:38:08</td>\n",
              "      <td>10:38:08</td>\n",
              "      <td>0</td>\n",
              "      <td>推薦舊產品</td>\n",
              "      <td>沒聯絡上本人</td>\n",
              "    </tr>\n",
              "    <tr>\n",
              "      <th>3</th>\n",
              "      <td>C1030000005865</td>\n",
              "      <td>C102027</td>\n",
              "      <td>王九妹</td>\n",
              "      <td>2020-01-02 00:00:00</td>\n",
              "      <td>11:45:41</td>\n",
              "      <td>11:45:41</td>\n",
              "      <td>0</td>\n",
              "      <td>推薦舊產品</td>\n",
              "      <td>沒聯絡上本人</td>\n",
              "    </tr>\n",
              "    <tr>\n",
              "      <th>4</th>\n",
              "      <td>C1011101244476</td>\n",
              "      <td>C102027</td>\n",
              "      <td>蘇靖雯</td>\n",
              "      <td>2020-01-02 00:00:00</td>\n",
              "      <td>14:30:59</td>\n",
              "      <td>14:31:50</td>\n",
              "      <td>51</td>\n",
              "      <td>推薦舊產品</td>\n",
              "      <td>其他(請詳填備註)</td>\n",
              "    </tr>\n",
              "    <tr>\n",
              "      <th>...</th>\n",
              "      <td>...</td>\n",
              "      <td>...</td>\n",
              "      <td>...</td>\n",
              "      <td>...</td>\n",
              "      <td>...</td>\n",
              "      <td>...</td>\n",
              "      <td>...</td>\n",
              "      <td>...</td>\n",
              "      <td>...</td>\n",
              "    </tr>\n",
              "    <tr>\n",
              "      <th>89031</th>\n",
              "      <td>C0990100108266</td>\n",
              "      <td>C109054</td>\n",
              "      <td>陳玉卿</td>\n",
              "      <td>2021-12-30 00:00:00</td>\n",
              "      <td>17:49:10</td>\n",
              "      <td>17:49:10</td>\n",
              "      <td>0</td>\n",
              "      <td>關心聯絡</td>\n",
              "      <td>沒聯絡上本人</td>\n",
              "    </tr>\n",
              "    <tr>\n",
              "      <th>89032</th>\n",
              "      <td>C20200705140</td>\n",
              "      <td>C109054</td>\n",
              "      <td>陳雅青</td>\n",
              "      <td>2021-12-30 00:00:00</td>\n",
              "      <td>17:53:29</td>\n",
              "      <td>17:53:29</td>\n",
              "      <td>0</td>\n",
              "      <td>關心聯絡</td>\n",
              "      <td>沒聯絡上本人</td>\n",
              "    </tr>\n",
              "    <tr>\n",
              "      <th>89033</th>\n",
              "      <td>C1051201284774</td>\n",
              "      <td>C109054</td>\n",
              "      <td>蔡家穎</td>\n",
              "      <td>2021-12-30 00:00:00</td>\n",
              "      <td>17:55:52</td>\n",
              "      <td>17:55:52</td>\n",
              "      <td>0</td>\n",
              "      <td>關心聯絡</td>\n",
              "      <td>沒聯絡上本人</td>\n",
              "    </tr>\n",
              "    <tr>\n",
              "      <th>89034</th>\n",
              "      <td>C1041001336605</td>\n",
              "      <td>C104170</td>\n",
              "      <td>姜念劬</td>\n",
              "      <td>2021-12-30 00:00:00</td>\n",
              "      <td>17:57:32</td>\n",
              "      <td>18:24:37</td>\n",
              "      <td>1625</td>\n",
              "      <td>關心聯絡</td>\n",
              "      <td>關心寒暄(OB-下訂單)</td>\n",
              "    </tr>\n",
              "    <tr>\n",
              "      <th>89035</th>\n",
              "      <td>C0990100211959</td>\n",
              "      <td>C109054</td>\n",
              "      <td>張禎修</td>\n",
              "      <td>2021-12-30 00:00:00</td>\n",
              "      <td>17:58:52</td>\n",
              "      <td>17:58:52</td>\n",
              "      <td>0</td>\n",
              "      <td>關心聯絡</td>\n",
              "      <td>沒聯絡上本人</td>\n",
              "    </tr>\n",
              "  </tbody>\n",
              "</table>\n",
              "<p>89036 rows × 9 columns</p>\n",
              "</div>\n",
              "    <div class=\"colab-df-buttons\">\n",
              "\n",
              "  <div class=\"colab-df-container\">\n",
              "    <button class=\"colab-df-convert\" onclick=\"convertToInteractive('df-4ac657cc-f50d-42c2-945d-28927fe64738')\"\n",
              "            title=\"Convert this dataframe to an interactive table.\"\n",
              "            style=\"display:none;\">\n",
              "\n",
              "  <svg xmlns=\"http://www.w3.org/2000/svg\" height=\"24px\" viewBox=\"0 -960 960 960\">\n",
              "    <path d=\"M120-120v-720h720v720H120Zm60-500h600v-160H180v160Zm220 220h160v-160H400v160Zm0 220h160v-160H400v160ZM180-400h160v-160H180v160Zm440 0h160v-160H620v160ZM180-180h160v-160H180v160Zm440 0h160v-160H620v160Z\"/>\n",
              "  </svg>\n",
              "    </button>\n",
              "\n",
              "  <style>\n",
              "    .colab-df-container {\n",
              "      display:flex;\n",
              "      gap: 12px;\n",
              "    }\n",
              "\n",
              "    .colab-df-convert {\n",
              "      background-color: #E8F0FE;\n",
              "      border: none;\n",
              "      border-radius: 50%;\n",
              "      cursor: pointer;\n",
              "      display: none;\n",
              "      fill: #1967D2;\n",
              "      height: 32px;\n",
              "      padding: 0 0 0 0;\n",
              "      width: 32px;\n",
              "    }\n",
              "\n",
              "    .colab-df-convert:hover {\n",
              "      background-color: #E2EBFA;\n",
              "      box-shadow: 0px 1px 2px rgba(60, 64, 67, 0.3), 0px 1px 3px 1px rgba(60, 64, 67, 0.15);\n",
              "      fill: #174EA6;\n",
              "    }\n",
              "\n",
              "    .colab-df-buttons div {\n",
              "      margin-bottom: 4px;\n",
              "    }\n",
              "\n",
              "    [theme=dark] .colab-df-convert {\n",
              "      background-color: #3B4455;\n",
              "      fill: #D2E3FC;\n",
              "    }\n",
              "\n",
              "    [theme=dark] .colab-df-convert:hover {\n",
              "      background-color: #434B5C;\n",
              "      box-shadow: 0px 1px 3px 1px rgba(0, 0, 0, 0.15);\n",
              "      filter: drop-shadow(0px 1px 2px rgba(0, 0, 0, 0.3));\n",
              "      fill: #FFFFFF;\n",
              "    }\n",
              "  </style>\n",
              "\n",
              "    <script>\n",
              "      const buttonEl =\n",
              "        document.querySelector('#df-4ac657cc-f50d-42c2-945d-28927fe64738 button.colab-df-convert');\n",
              "      buttonEl.style.display =\n",
              "        google.colab.kernel.accessAllowed ? 'block' : 'none';\n",
              "\n",
              "      async function convertToInteractive(key) {\n",
              "        const element = document.querySelector('#df-4ac657cc-f50d-42c2-945d-28927fe64738');\n",
              "        const dataTable =\n",
              "          await google.colab.kernel.invokeFunction('convertToInteractive',\n",
              "                                                    [key], {});\n",
              "        if (!dataTable) return;\n",
              "\n",
              "        const docLinkHtml = 'Like what you see? Visit the ' +\n",
              "          '<a target=\"_blank\" href=https://colab.research.google.com/notebooks/data_table.ipynb>data table notebook</a>'\n",
              "          + ' to learn more about interactive tables.';\n",
              "        element.innerHTML = '';\n",
              "        dataTable['output_type'] = 'display_data';\n",
              "        await google.colab.output.renderOutput(dataTable, element);\n",
              "        const docLink = document.createElement('div');\n",
              "        docLink.innerHTML = docLinkHtml;\n",
              "        element.appendChild(docLink);\n",
              "      }\n",
              "    </script>\n",
              "  </div>\n",
              "\n",
              "\n",
              "<div id=\"df-bd7cbd53-38e3-4bea-9fb3-22b2139ba087\">\n",
              "  <button class=\"colab-df-quickchart\" onclick=\"quickchart('df-bd7cbd53-38e3-4bea-9fb3-22b2139ba087')\"\n",
              "            title=\"Suggest charts\"\n",
              "            style=\"display:none;\">\n",
              "\n",
              "<svg xmlns=\"http://www.w3.org/2000/svg\" height=\"24px\"viewBox=\"0 0 24 24\"\n",
              "     width=\"24px\">\n",
              "    <g>\n",
              "        <path d=\"M19 3H5c-1.1 0-2 .9-2 2v14c0 1.1.9 2 2 2h14c1.1 0 2-.9 2-2V5c0-1.1-.9-2-2-2zM9 17H7v-7h2v7zm4 0h-2V7h2v10zm4 0h-2v-4h2v4z\"/>\n",
              "    </g>\n",
              "</svg>\n",
              "  </button>\n",
              "\n",
              "<style>\n",
              "  .colab-df-quickchart {\n",
              "      --bg-color: #E8F0FE;\n",
              "      --fill-color: #1967D2;\n",
              "      --hover-bg-color: #E2EBFA;\n",
              "      --hover-fill-color: #174EA6;\n",
              "      --disabled-fill-color: #AAA;\n",
              "      --disabled-bg-color: #DDD;\n",
              "  }\n",
              "\n",
              "  [theme=dark] .colab-df-quickchart {\n",
              "      --bg-color: #3B4455;\n",
              "      --fill-color: #D2E3FC;\n",
              "      --hover-bg-color: #434B5C;\n",
              "      --hover-fill-color: #FFFFFF;\n",
              "      --disabled-bg-color: #3B4455;\n",
              "      --disabled-fill-color: #666;\n",
              "  }\n",
              "\n",
              "  .colab-df-quickchart {\n",
              "    background-color: var(--bg-color);\n",
              "    border: none;\n",
              "    border-radius: 50%;\n",
              "    cursor: pointer;\n",
              "    display: none;\n",
              "    fill: var(--fill-color);\n",
              "    height: 32px;\n",
              "    padding: 0;\n",
              "    width: 32px;\n",
              "  }\n",
              "\n",
              "  .colab-df-quickchart:hover {\n",
              "    background-color: var(--hover-bg-color);\n",
              "    box-shadow: 0 1px 2px rgba(60, 64, 67, 0.3), 0 1px 3px 1px rgba(60, 64, 67, 0.15);\n",
              "    fill: var(--button-hover-fill-color);\n",
              "  }\n",
              "\n",
              "  .colab-df-quickchart-complete:disabled,\n",
              "  .colab-df-quickchart-complete:disabled:hover {\n",
              "    background-color: var(--disabled-bg-color);\n",
              "    fill: var(--disabled-fill-color);\n",
              "    box-shadow: none;\n",
              "  }\n",
              "\n",
              "  .colab-df-spinner {\n",
              "    border: 2px solid var(--fill-color);\n",
              "    border-color: transparent;\n",
              "    border-bottom-color: var(--fill-color);\n",
              "    animation:\n",
              "      spin 1s steps(1) infinite;\n",
              "  }\n",
              "\n",
              "  @keyframes spin {\n",
              "    0% {\n",
              "      border-color: transparent;\n",
              "      border-bottom-color: var(--fill-color);\n",
              "      border-left-color: var(--fill-color);\n",
              "    }\n",
              "    20% {\n",
              "      border-color: transparent;\n",
              "      border-left-color: var(--fill-color);\n",
              "      border-top-color: var(--fill-color);\n",
              "    }\n",
              "    30% {\n",
              "      border-color: transparent;\n",
              "      border-left-color: var(--fill-color);\n",
              "      border-top-color: var(--fill-color);\n",
              "      border-right-color: var(--fill-color);\n",
              "    }\n",
              "    40% {\n",
              "      border-color: transparent;\n",
              "      border-right-color: var(--fill-color);\n",
              "      border-top-color: var(--fill-color);\n",
              "    }\n",
              "    60% {\n",
              "      border-color: transparent;\n",
              "      border-right-color: var(--fill-color);\n",
              "    }\n",
              "    80% {\n",
              "      border-color: transparent;\n",
              "      border-right-color: var(--fill-color);\n",
              "      border-bottom-color: var(--fill-color);\n",
              "    }\n",
              "    90% {\n",
              "      border-color: transparent;\n",
              "      border-bottom-color: var(--fill-color);\n",
              "    }\n",
              "  }\n",
              "</style>\n",
              "\n",
              "  <script>\n",
              "    async function quickchart(key) {\n",
              "      const quickchartButtonEl =\n",
              "        document.querySelector('#' + key + ' button');\n",
              "      quickchartButtonEl.disabled = true;  // To prevent multiple clicks.\n",
              "      quickchartButtonEl.classList.add('colab-df-spinner');\n",
              "      try {\n",
              "        const charts = await google.colab.kernel.invokeFunction(\n",
              "            'suggestCharts', [key], {});\n",
              "      } catch (error) {\n",
              "        console.error('Error during call to suggestCharts:', error);\n",
              "      }\n",
              "      quickchartButtonEl.classList.remove('colab-df-spinner');\n",
              "      quickchartButtonEl.classList.add('colab-df-quickchart-complete');\n",
              "    }\n",
              "    (() => {\n",
              "      let quickchartButtonEl =\n",
              "        document.querySelector('#df-bd7cbd53-38e3-4bea-9fb3-22b2139ba087 button');\n",
              "      quickchartButtonEl.style.display =\n",
              "        google.colab.kernel.accessAllowed ? 'block' : 'none';\n",
              "    })();\n",
              "  </script>\n",
              "</div>\n",
              "\n",
              "  <div id=\"id_e5830b2e-38f9-4ed7-a99a-5ded16394c92\">\n",
              "    <style>\n",
              "      .colab-df-generate {\n",
              "        background-color: #E8F0FE;\n",
              "        border: none;\n",
              "        border-radius: 50%;\n",
              "        cursor: pointer;\n",
              "        display: none;\n",
              "        fill: #1967D2;\n",
              "        height: 32px;\n",
              "        padding: 0 0 0 0;\n",
              "        width: 32px;\n",
              "      }\n",
              "\n",
              "      .colab-df-generate:hover {\n",
              "        background-color: #E2EBFA;\n",
              "        box-shadow: 0px 1px 2px rgba(60, 64, 67, 0.3), 0px 1px 3px 1px rgba(60, 64, 67, 0.15);\n",
              "        fill: #174EA6;\n",
              "      }\n",
              "\n",
              "      [theme=dark] .colab-df-generate {\n",
              "        background-color: #3B4455;\n",
              "        fill: #D2E3FC;\n",
              "      }\n",
              "\n",
              "      [theme=dark] .colab-df-generate:hover {\n",
              "        background-color: #434B5C;\n",
              "        box-shadow: 0px 1px 3px 1px rgba(0, 0, 0, 0.15);\n",
              "        filter: drop-shadow(0px 1px 2px rgba(0, 0, 0, 0.3));\n",
              "        fill: #FFFFFF;\n",
              "      }\n",
              "    </style>\n",
              "    <button class=\"colab-df-generate\" onclick=\"generateWithVariable('df')\"\n",
              "            title=\"Generate code using this dataframe.\"\n",
              "            style=\"display:none;\">\n",
              "\n",
              "  <svg xmlns=\"http://www.w3.org/2000/svg\" height=\"24px\"viewBox=\"0 0 24 24\"\n",
              "       width=\"24px\">\n",
              "    <path d=\"M7,19H8.4L18.45,9,17,7.55,7,17.6ZM5,21V16.75L18.45,3.32a2,2,0,0,1,2.83,0l1.4,1.43a1.91,1.91,0,0,1,.58,1.4,1.91,1.91,0,0,1-.58,1.4L9.25,21ZM18.45,9,17,7.55Zm-12,3A5.31,5.31,0,0,0,4.9,8.1,5.31,5.31,0,0,0,1,6.5,5.31,5.31,0,0,0,4.9,4.9,5.31,5.31,0,0,0,6.5,1,5.31,5.31,0,0,0,8.1,4.9,5.31,5.31,0,0,0,12,6.5,5.46,5.46,0,0,0,6.5,12Z\"/>\n",
              "  </svg>\n",
              "    </button>\n",
              "    <script>\n",
              "      (() => {\n",
              "      const buttonEl =\n",
              "        document.querySelector('#id_e5830b2e-38f9-4ed7-a99a-5ded16394c92 button.colab-df-generate');\n",
              "      buttonEl.style.display =\n",
              "        google.colab.kernel.accessAllowed ? 'block' : 'none';\n",
              "\n",
              "      buttonEl.onclick = () => {\n",
              "        google.colab.notebook.generateWithVariable('df');\n",
              "      }\n",
              "      })();\n",
              "    </script>\n",
              "  </div>\n",
              "\n",
              "    </div>\n",
              "  </div>\n"
            ],
            "application/vnd.google.colaboratory.intrinsic+json": {
              "type": "dataframe",
              "variable_name": "df",
              "summary": "{\n  \"name\": \"df\",\n  \"rows\": 89036,\n  \"fields\": [\n    {\n      \"column\": \"\\u6703\\u54e1\\u7de8\\u865f\",\n      \"properties\": {\n        \"dtype\": \"category\",\n        \"num_unique_values\": 38722,\n        \"samples\": [\n          \"C1041001303553       \",\n          \"C1020701054897       \",\n          \"C1031201842761       \"\n        ],\n        \"semantic_type\": \"\",\n        \"description\": \"\"\n      }\n    },\n    {\n      \"column\": \"\\u7de8\\u865f\",\n      \"properties\": {\n        \"dtype\": \"category\",\n        \"num_unique_values\": 12,\n        \"samples\": [\n          \"C110032\",\n          \"C110033\",\n          \"C102027\"\n        ],\n        \"semantic_type\": \"\",\n        \"description\": \"\"\n      }\n    },\n    {\n      \"column\": \"\\u6703\\u54e1\\u59d3\\u540d\",\n      \"properties\": {\n        \"dtype\": \"category\",\n        \"num_unique_values\": 35206,\n        \"samples\": [\n          \"\\u5433\\u4f73\\u6a3a              \",\n          \"\\u6797\\u751f\\u57fa              \",\n          \"\\u738b\\u912d\\u6dd1\\u60e0            \"\n        ],\n        \"semantic_type\": \"\",\n        \"description\": \"\"\n      }\n    },\n    {\n      \"column\": \"Call In/Out \\u65e5\\u671f\",\n      \"properties\": {\n        \"dtype\": \"date\",\n        \"min\": \"1970-01-01 00:00:00\",\n        \"max\": \"2021-12-30 00:00:00\",\n        \"num_unique_values\": 556,\n        \"samples\": [\n          \"2021-09-13 00:00:00\",\n          \"2020-08-18 00:00:00\",\n          \"2020-03-20 00:00:00\"\n        ],\n        \"semantic_type\": \"\",\n        \"description\": \"\"\n      }\n    },\n    {\n      \"column\": \"\\u958b\\u59cb\\u6642\\u9593\",\n      \"properties\": {\n        \"dtype\": \"category\",\n        \"num_unique_values\": 27882,\n        \"samples\": [\n          \"13:50:44\",\n          \"15:23:04\",\n          \"19:17:27\"\n        ],\n        \"semantic_type\": \"\",\n        \"description\": \"\"\n      }\n    },\n    {\n      \"column\": \"\\u7d50\\u675f\\u6642\\u9593\",\n      \"properties\": {\n        \"dtype\": \"category\",\n        \"num_unique_values\": 27911,\n        \"samples\": [\n          \"11:40:09\",\n          \"10:58:40\",\n          \"15:11:05\"\n        ],\n        \"semantic_type\": \"\",\n        \"description\": \"\"\n      }\n    },\n    {\n      \"column\": \"\\u901a\\u8a71\\u6642\\u9593(\\u79d2)\",\n      \"properties\": {\n        \"dtype\": \"category\",\n        \"num_unique_values\": 1317,\n        \"samples\": [\n          \"C1010201085453       \",\n          1778,\n          770\n        ],\n        \"semantic_type\": \"\",\n        \"description\": \"\"\n      }\n    },\n    {\n      \"column\": \"\\u901a\\u8a71\\u72c0\\u614b1\",\n      \"properties\": {\n        \"dtype\": \"category\",\n        \"num_unique_values\": 4,\n        \"samples\": [\n          \"\\u95dc\\u5fc3\\u806f\\u7d61\",\n          \"\\u63a8\\u85a6\\u65b0\\u7522\\u54c1\",\n          \"\\u63a8\\u85a6\\u820a\\u7522\\u54c1\"\n        ],\n        \"semantic_type\": \"\",\n        \"description\": \"\"\n      }\n    },\n    {\n      \"column\": \"\\u901a\\u8a71\\u72c0\\u614b2\",\n      \"properties\": {\n        \"dtype\": \"category\",\n        \"num_unique_values\": 35,\n        \"samples\": [\n          \"\\u7fd2\\u6163\\u5728\\u7db2\\u8def\\u8cfc\\u8cb7\",\n          \"\\u6539\\u8cb7\\u5225\\u5bb6\\u54c1\\u724c(\\u8acb\\u8a73\\u586b\\u5099\\u8a3b)\",\n          \"\\u6c92\\u6709\\u610f\\u898b\"\n        ],\n        \"semantic_type\": \"\",\n        \"description\": \"\"\n      }\n    }\n  ]\n}"
            }
          },
          "metadata": {},
          "execution_count": 15
        }
      ]
    },
    {
      "cell_type": "markdown",
      "source": [
        "while 條件: 條件成立時做"
      ],
      "metadata": {
        "id": "7Fzr5xnA9UnN"
      }
    },
    {
      "cell_type": "code",
      "source": [
        "次數, 目標 = 0, 5\n",
        "while 次數 < 目標:\n",
        "    print(\"已經練習了{}\\t開始第{}次的練習\".format(次數, 次數+1))\n",
        "    次數 += 1\n",
        "else:\n",
        "    print(\"達成目標，共練習了{}次\".format(次數))\n"
      ],
      "metadata": {
        "colab": {
          "base_uri": "https://localhost:8080/"
        },
        "id": "2XUPvi3l9BeZ",
        "outputId": "bc690bf6-b1df-49fc-8ea9-95d1f18dd866"
      },
      "execution_count": null,
      "outputs": [
        {
          "output_type": "stream",
          "name": "stdout",
          "text": [
            "已經練習了0\t開始第1次的練習\n",
            "已經練習了1\t開始第2次的練習\n",
            "已經練習了2\t開始第3次的練習\n",
            "已經練習了3\t開始第4次的練習\n",
            "已經練習了4\t開始第5次的練習\n",
            "達成目標，共練習了5次\n"
          ]
        }
      ]
    },
    {
      "cell_type": "code",
      "source": [
        "次數 = 0\n",
        "目標 = int(input('輸入聯繫次數：'))\n",
        "while 次數 < 目標:\n",
        "  print(\"練習次數{}次\".format(次數+1))\n",
        "  次數 += 1\n",
        "else:\n",
        "  print(\"達成目標,一共聯繫了{}次\".format(次數))"
      ],
      "metadata": {
        "colab": {
          "base_uri": "https://localhost:8080/"
        },
        "id": "SIoMSnKS9eHh",
        "outputId": "a477adae-317d-4031-a5f1-71e753da3690"
      },
      "execution_count": null,
      "outputs": [
        {
          "output_type": "stream",
          "name": "stdout",
          "text": [
            "輸入聯繫次數：3\n",
            "練習次數1次\n",
            "練習次數2次\n",
            "練習次數3次\n",
            "達成目標,一共聯繫了3次\n"
          ]
        }
      ]
    },
    {
      "cell_type": "code",
      "source": [
        "次數 = 0\n",
        "目標 = int(input('輸入練習次數：'))\n",
        "while 次數 < 目標:\n",
        "    print(\"練習第{}次\".format(次數+1))\n",
        "    次數 += 1\n",
        "else:\n",
        "    print(\"達成目標，共練習了{}次\".format(次數))\n"
      ],
      "metadata": {
        "colab": {
          "base_uri": "https://localhost:8080/"
        },
        "id": "_bC-ft6I_diy",
        "outputId": "7194794b-da1c-4cd1-c469-484e3b97b7c5"
      },
      "execution_count": null,
      "outputs": [
        {
          "output_type": "stream",
          "name": "stdout",
          "text": [
            "輸入練習次數：3\n",
            "練習第1次\n",
            "練習第2次\n",
            "練習第3次\n",
            "達成目標，共練習了3次\n"
          ]
        }
      ]
    },
    {
      "cell_type": "code",
      "source": [
        "data = ['Mon.','Tue.','Wed.','Thr.','Fri.']\n",
        "for c in data:\n",
        "  print(c, end='')"
      ],
      "metadata": {
        "colab": {
          "base_uri": "https://localhost:8080/"
        },
        "id": "Vb4ylv1BAJHK",
        "outputId": "bb30320f-2c8d-4ba3-cddf-8b13e58f7c77"
      },
      "execution_count": null,
      "outputs": [
        {
          "output_type": "stream",
          "name": "stdout",
          "text": [
            "Mon.Tue.Wed.Thr.Fri."
          ]
        }
      ]
    },
    {
      "cell_type": "code",
      "source": [
        "data = ['Mon.','Tue.','Wed.','Thr.','Fri.']\n",
        "for c in data:\n",
        "  print(c, end='')\n",
        "else:\n",
        "  print()\n",
        "print('=================')"
      ],
      "metadata": {
        "colab": {
          "base_uri": "https://localhost:8080/"
        },
        "id": "75ePSQCQAcya",
        "outputId": "b08275a9-4f7c-46cd-f7da-02dc655c2dce"
      },
      "execution_count": null,
      "outputs": [
        {
          "output_type": "stream",
          "name": "stdout",
          "text": [
            "Mon.Tue.Wed.Thr.Fri.\n",
            "=================\n"
          ]
        }
      ]
    },
    {
      "cell_type": "code",
      "source": [
        "seq = range(5)\n",
        "seq = range(0, 5)\n",
        "seq = range(1, 10, 2)\n",
        "print(seq)\n",
        "for c in seq:\n",
        "  print(c, end='.')"
      ],
      "metadata": {
        "colab": {
          "base_uri": "https://localhost:8080/"
        },
        "id": "BpSQ4HRCDos9",
        "outputId": "88b7432e-4ebc-4d62-994b-8c3b6d76330d"
      },
      "execution_count": null,
      "outputs": [
        {
          "output_type": "stream",
          "name": "stdout",
          "text": [
            "range(1, 10, 2)\n",
            "1.3.5.7.9."
          ]
        }
      ]
    },
    {
      "cell_type": "code",
      "source": [
        "L = [1,2,3,4,5]\n",
        "for c in L:\n",
        "  print (c)"
      ],
      "metadata": {
        "colab": {
          "base_uri": "https://localhost:8080/"
        },
        "id": "mbqR_CZ8FVBX",
        "outputId": "11ca824b-234c-45e7-f19c-f9ea0846170a"
      },
      "execution_count": null,
      "outputs": [
        {
          "output_type": "stream",
          "name": "stdout",
          "text": [
            "1\n",
            "2\n",
            "3\n",
            "4\n",
            "5\n"
          ]
        }
      ]
    },
    {
      "cell_type": "code",
      "source": [
        "seq = range(100)\n",
        "print(seq)\n",
        "for c in seq:\n",
        "  print (c, end=',')"
      ],
      "metadata": {
        "colab": {
          "base_uri": "https://localhost:8080/"
        },
        "id": "XY7YlGyaHJo3",
        "outputId": "119cef60-944e-4eb7-a10b-17937a8b5403"
      },
      "execution_count": null,
      "outputs": [
        {
          "output_type": "stream",
          "name": "stdout",
          "text": [
            "range(0, 100)\n",
            "0,1,2,3,4,5,6,7,8,9,10,11,12,13,14,15,16,17,18,19,20,21,22,23,24,25,26,27,28,29,30,31,32,33,34,35,36,37,38,39,40,41,42,43,44,45,46,47,48,49,50,51,52,53,54,55,56,57,58,59,60,61,62,63,64,65,66,67,68,69,70,71,72,73,74,75,76,77,78,79,80,81,82,83,84,85,86,87,88,89,90,91,92,93,94,95,96,97,98,99,"
          ]
        }
      ]
    },
    {
      "cell_type": "code",
      "source": [
        "n = int(input('輸入整數N：'))\n",
        "for i in range(1,n):\n",
        "  print(i, end=',')\n",
        "else:\n",
        "  print(i+1)"
      ],
      "metadata": {
        "colab": {
          "base_uri": "https://localhost:8080/"
        },
        "id": "u6jRXfm7D09n",
        "outputId": "61728cd3-f2d7-4b60-e1c2-0ee5012bc2df"
      },
      "execution_count": null,
      "outputs": [
        {
          "output_type": "stream",
          "name": "stdout",
          "text": [
            "輸入整數N：6\n",
            "1,2,3,4,5,6\n"
          ]
        }
      ]
    },
    {
      "cell_type": "code",
      "source": [
        "for 次數:\n",
        "L = [1,2,3,4,5,6]\n",
        "for c in range(5):\n",
        "  print(c)"
      ],
      "metadata": {
        "colab": {
          "base_uri": "https://localhost:8080/",
          "height": 112
        },
        "id": "wAPeks9DEw1s",
        "outputId": "db6f5409-e5cd-4dcb-de96-3f8d2a33a5f3"
      },
      "execution_count": null,
      "outputs": [
        {
          "output_type": "error",
          "ename": "SyntaxError",
          "evalue": "invalid syntax (<ipython-input-35-8d0c6dd34a16>, line 1)",
          "traceback": [
            "\u001b[0;36m  File \u001b[0;32m\"<ipython-input-35-8d0c6dd34a16>\"\u001b[0;36m, line \u001b[0;32m1\u001b[0m\n\u001b[0;31m    for 次數:\u001b[0m\n\u001b[0m          ^\u001b[0m\n\u001b[0;31mSyntaxError\u001b[0m\u001b[0;31m:\u001b[0m invalid syntax\n"
          ]
        }
      ]
    },
    {
      "cell_type": "code",
      "source": [
        "for 次數 in range(5):  # 確保是半形冒號\n",
        "    L = [1, 2, 3, 4, 5, 6]\n",
        "for c in range(5):  # 確保是半形冒號\n",
        "        print(c)"
      ],
      "metadata": {
        "colab": {
          "base_uri": "https://localhost:8080/"
        },
        "id": "G0Mw-YzSFCQe",
        "outputId": "dfe7b7e5-0c33-41e2-b589-04f6fa7f80c0"
      },
      "execution_count": null,
      "outputs": [
        {
          "output_type": "stream",
          "name": "stdout",
          "text": [
            "0\n",
            "1\n",
            "2\n",
            "3\n",
            "4\n"
          ]
        }
      ]
    },
    {
      "cell_type": "code",
      "source": [
        "total = 0\n",
        "for i in range(1, 101): #從1到100\n",
        "  total += i\n",
        "print(\"1到100的總和\",total)"
      ],
      "metadata": {
        "colab": {
          "base_uri": "https://localhost:8080/"
        },
        "id": "lRTFts3xFvmI",
        "outputId": "e5c488fa-8f42-454a-fd7e-c430d1981141"
      },
      "execution_count": null,
      "outputs": [
        {
          "output_type": "stream",
          "name": "stdout",
          "text": [
            "1到100的總和 5050\n"
          ]
        }
      ]
    },
    {
      "cell_type": "code",
      "source": [
        "total = 0\n",
        "for i in range(1, 101): #從1到100\n",
        "  total = total + i\n",
        "print(\"1到100的總和\",total)"
      ],
      "metadata": {
        "colab": {
          "base_uri": "https://localhost:8080/"
        },
        "id": "NcYfSmv9I6EY",
        "outputId": "182b9758-b5a1-4603-a786-51fe0d6cf928"
      },
      "execution_count": null,
      "outputs": [
        {
          "output_type": "stream",
          "name": "stdout",
          "text": [
            "1到100的總和 5050\n"
          ]
        }
      ]
    },
    {
      "cell_type": "markdown",
      "source": [
        "range(x, y, z)\n",
        "x:起始\n",
        "y：終點-1\n",
        "z：公差"
      ],
      "metadata": {
        "id": "k0FypqAGGEY8"
      }
    },
    {
      "cell_type": "code",
      "source": [
        "for 次數 in range(5):  # 確保是半形冒號\n",
        "    L = [1, 2, 3, 4, 5, 6]"
      ],
      "metadata": {
        "id": "I60jmziVFjXo"
      },
      "execution_count": null,
      "outputs": []
    },
    {
      "cell_type": "markdown",
      "source": [
        "continue: 要跳過回圈\n",
        "break：不管發生什麼事情都結束這個回圈"
      ],
      "metadata": {
        "id": "0Ybjy8Y9Gd6Q"
      }
    },
    {
      "cell_type": "code",
      "source": [
        "l = [0, 0, 1, 0, 0]\n",
        "for i in l:\n",
        "  if i == l:\n",
        "    #break\n",
        "    continue\n",
        "  print(i)\n",
        "  #print('sasdasadfd')"
      ],
      "metadata": {
        "colab": {
          "base_uri": "https://localhost:8080/"
        },
        "id": "SC_KCJskJ5cV",
        "outputId": "337916b6-6576-49a2-eba4-3718b1a328b7"
      },
      "execution_count": null,
      "outputs": [
        {
          "output_type": "stream",
          "name": "stdout",
          "text": [
            "0\n",
            "0\n",
            "1\n",
            "0\n",
            "0\n"
          ]
        }
      ]
    },
    {
      "cell_type": "code",
      "source": [
        "l = [0, 0, 1, 0, 0]\n",
        "for i in l:\n",
        "  if i == l:\n",
        "    break\n",
        "    #continue\n",
        "  print(i)\n",
        "  #print('sasdasadfd')"
      ],
      "metadata": {
        "colab": {
          "base_uri": "https://localhost:8080/"
        },
        "id": "C-8beIq-KRJ_",
        "outputId": "08b079a4-1298-447a-9d19-b5a5b7efa08b"
      },
      "execution_count": null,
      "outputs": [
        {
          "output_type": "stream",
          "name": "stdout",
          "text": [
            "0\n",
            "0\n",
            "1\n",
            "0\n",
            "0\n"
          ]
        }
      ]
    },
    {
      "cell_type": "code",
      "source": [
        "def funtion_name(parameters):\n",
        "  statements\n",
        "  return values"
      ],
      "metadata": {
        "id": "gIG3yvRfMAo8"
      },
      "execution_count": null,
      "outputs": []
    },
    {
      "cell_type": "code",
      "source": [
        "def f():\n",
        "  print(\"Hello,Python!\")"
      ],
      "metadata": {
        "id": "SUChFsTDMHpc"
      },
      "execution_count": null,
      "outputs": []
    },
    {
      "cell_type": "code",
      "source": [
        "f()"
      ],
      "metadata": {
        "colab": {
          "base_uri": "https://localhost:8080/"
        },
        "id": "BOtp14F8MPZV",
        "outputId": "0f88e513-6349-4df3-c8ba-6ae824e14477"
      },
      "execution_count": null,
      "outputs": [
        {
          "output_type": "stream",
          "name": "stdout",
          "text": [
            "Hello,Python!\n"
          ]
        }
      ]
    },
    {
      "cell_type": "code",
      "source": [
        "import random\n",
        "def 運動():\n",
        "  運動時間 = random.randint(30,120)\n",
        "  print(\"開始運動...\", 運動時間,\"分鐘...完成運動\")"
      ],
      "metadata": {
        "id": "4UiLLk9jMTpw"
      },
      "execution_count": null,
      "outputs": []
    },
    {
      "cell_type": "code",
      "source": [
        "for i in range(3):\n",
        "  運動()"
      ],
      "metadata": {
        "colab": {
          "base_uri": "https://localhost:8080/"
        },
        "id": "lxDA2SgENGa0",
        "outputId": "9b7ac167-4ec3-4242-c124-4e81100ec881"
      },
      "execution_count": null,
      "outputs": [
        {
          "output_type": "stream",
          "name": "stdout",
          "text": [
            "開始運動... 56 分鐘...完成運動\n",
            "開始運動... 110 分鐘...完成運動\n",
            "開始運動... 80 分鐘...完成運動\n"
          ]
        }
      ]
    },
    {
      "cell_type": "markdown",
      "source": [
        "n是參數, 把參數傳遞進去"
      ],
      "metadata": {
        "id": "cpD5ExJtN-Gl"
      }
    },
    {
      "cell_type": "code",
      "source": [
        "def ABC(n):\n",
        "  print(n)\n",
        "ABC(7)\n",
        "ABC(3)"
      ],
      "metadata": {
        "colab": {
          "base_uri": "https://localhost:8080/"
        },
        "id": "LI-Y99M3NTTe",
        "outputId": "b8b17309-5c01-409f-bf51-c29120aec7bc"
      },
      "execution_count": null,
      "outputs": [
        {
          "output_type": "stream",
          "name": "stdout",
          "text": [
            "7\n",
            "3\n"
          ]
        }
      ]
    },
    {
      "cell_type": "code",
      "source": [
        "def ABC(n):\n",
        "  n = 10\n",
        "  print(n)\n",
        "  ABC()"
      ],
      "metadata": {
        "id": "R08QCd_iN6p2"
      },
      "execution_count": null,
      "outputs": []
    },
    {
      "cell_type": "code",
      "source": [
        "def ABC(n,m,k,l)\n",
        "ABC()"
      ],
      "metadata": {
        "colab": {
          "base_uri": "https://localhost:8080/",
          "height": 112
        },
        "id": "iIbEcbZuPnme",
        "outputId": "4026be66-66b7-4cef-a9e6-9ca039439b92"
      },
      "execution_count": null,
      "outputs": [
        {
          "output_type": "error",
          "ename": "SyntaxError",
          "evalue": "expected ':' (<ipython-input-97-d273ee240dd7>, line 1)",
          "traceback": [
            "\u001b[0;36m  File \u001b[0;32m\"<ipython-input-97-d273ee240dd7>\"\u001b[0;36m, line \u001b[0;32m1\u001b[0m\n\u001b[0;31m    def ABC(n,m,k,l)\u001b[0m\n\u001b[0m                    ^\u001b[0m\n\u001b[0;31mSyntaxError\u001b[0m\u001b[0;31m:\u001b[0m expected ':'\n"
          ]
        }
      ]
    },
    {
      "cell_type": "markdown",
      "source": [
        "2025.3.12"
      ],
      "metadata": {
        "id": "3WS0STI-5jJF"
      }
    },
    {
      "cell_type": "markdown",
      "source": [
        "考試會考！"
      ],
      "metadata": {
        "id": "_wVB9O7m8EwM"
      }
    },
    {
      "cell_type": "code",
      "source": [
        "import math\n",
        "\n",
        "def calculate_distance (x1, y1, x2, y2):\n",
        "  distance = math.sqrt((x2 - x1) ** 2 + (y2 - y1) ** 2)\n",
        "  return distance\n",
        "\n",
        "\n",
        "x1, y1 = map(float, input(\"請輸入第一點(x1, y1)：\").split())\n",
        "x2, y2 = map(float, input(\"請輸入第二點(x2, y2)：\").split())\n",
        "\n",
        "distance = calculate_distance(x1, y1, x2, y2)\n",
        "print(f\"兩點({x1}, {y1}) 與 ({x2}, {y2}) 之間的距離為：{distance:.2f}\")"
      ],
      "metadata": {
        "id": "nV5JYKQJPtId",
        "colab": {
          "base_uri": "https://localhost:8080/"
        },
        "outputId": "c557a2f0-20b0-4143-fae5-b3e5d36bb9ab"
      },
      "execution_count": null,
      "outputs": [
        {
          "output_type": "stream",
          "name": "stdout",
          "text": [
            "請輸入第一點(x1, y1)：2 4\n",
            "請輸入第二點(x2, y2)：3 4\n",
            "兩點(2.0, 4.0) 與 (3.0, 4.0) 之間的距離為：1.00\n"
          ]
        }
      ]
    },
    {
      "cell_type": "code",
      "source": [
        "a = False\n",
        "if not a:\n",
        "  a = 'b'\n",
        "else:\n",
        "  a = 'a'\n",
        "print(a)"
      ],
      "metadata": {
        "colab": {
          "base_uri": "https://localhost:8080/"
        },
        "id": "sZkFczJ6BYS2",
        "outputId": "a58a3ab5-8adc-4521-9301-86398f519e0b"
      },
      "execution_count": null,
      "outputs": [
        {
          "output_type": "stream",
          "name": "stdout",
          "text": [
            "b\n"
          ]
        }
      ]
    },
    {
      "cell_type": "markdown",
      "source": [
        "Attribute 不會跑\n",
        "Method（Function） 會跑"
      ],
      "metadata": {
        "id": "gw6w4Anp-LTk"
      }
    },
    {
      "cell_type": "code",
      "source": [
        "class Car:\n",
        "  def _init_(self, brand, model, year):\n",
        "    \"\"\"初始化車輛屬性\"\"\"\n",
        "    self.brand = brand\n",
        "    self.model = model\n",
        "    self.year = year\n",
        "    self.is_running = False #初始階段為未啟動\n",
        "\n",
        "  def star(self):\n",
        "    \"\"\"啟動車輛\"\"\"\n",
        "    if not self.is_running:\n",
        "      self.is_running = True\n",
        "      print(f\"{self.brand} {self.model} 已啟動！\")\n",
        "    else:\n",
        "      print(f\"{self.brand} {self.model} 已經在運行中！\")\n",
        "\n",
        "  def display_info(self):\n",
        "    \"\"\"停止車輛\"\"\"\n",
        "    if not self.is_running:\n",
        "      self.is_running = True\n",
        "      print(f\"{self.brand} {self.model} 已停止！\")\n",
        "    else:\n",
        "      print(f\"{self.brand} {self.model} 已停止運行中！\")\n",
        "\n",
        "  def display_info(self):\n",
        "        \"\"\"顯示車輛資訊\"\"\"\n",
        "        return f\"{self.year} {self.model} {self.brand}\"\n",
        "\n",
        "# 創建 Car 類別的實例\n",
        "my_car = Car(\"Toyota\", \"Corolla\", 2022)\n",
        "my_car2 = Car(\"Tesla\", \"Model 3\", 2023)\n",
        "\n",
        "#創建 Car類別的實例\n",
        "print(my_car.display_info())\n",
        "print(my_car2.display_info())\n",
        "\n",
        "my_car.start()\n",
        "my_car.start()"
      ],
      "metadata": {
        "colab": {
          "base_uri": "https://localhost:8080/",
          "height": 224
        },
        "id": "jXzMq29n6GJK",
        "outputId": "a2ecb94b-8ed1-4cf0-f877-0e279776362b"
      },
      "execution_count": null,
      "outputs": [
        {
          "output_type": "error",
          "ename": "TypeError",
          "evalue": "Car() takes no arguments",
          "traceback": [
            "\u001b[0;31m---------------------------------------------------------------------------\u001b[0m",
            "\u001b[0;31mTypeError\u001b[0m                                 Traceback (most recent call last)",
            "\u001b[0;32m<ipython-input-20-80f3fde075f5>\u001b[0m in \u001b[0;36m<cell line: 0>\u001b[0;34m()\u001b[0m\n\u001b[1;32m     28\u001b[0m \u001b[0;34m\u001b[0m\u001b[0m\n\u001b[1;32m     29\u001b[0m \u001b[0;31m# 創建 Car 類別的實例\u001b[0m\u001b[0;34m\u001b[0m\u001b[0;34m\u001b[0m\u001b[0m\n\u001b[0;32m---> 30\u001b[0;31m \u001b[0mmy_car\u001b[0m \u001b[0;34m=\u001b[0m \u001b[0mCar\u001b[0m\u001b[0;34m(\u001b[0m\u001b[0;34m\"Toyota\"\u001b[0m\u001b[0;34m,\u001b[0m \u001b[0;34m\"Corolla\"\u001b[0m\u001b[0;34m,\u001b[0m \u001b[0;36m2022\u001b[0m\u001b[0;34m)\u001b[0m\u001b[0;34m\u001b[0m\u001b[0;34m\u001b[0m\u001b[0m\n\u001b[0m\u001b[1;32m     31\u001b[0m \u001b[0mmy_car2\u001b[0m \u001b[0;34m=\u001b[0m \u001b[0mCar\u001b[0m\u001b[0;34m(\u001b[0m\u001b[0;34m\"Tesla\"\u001b[0m\u001b[0;34m,\u001b[0m \u001b[0;34m\"Model 3\"\u001b[0m\u001b[0;34m,\u001b[0m \u001b[0;36m2023\u001b[0m\u001b[0;34m)\u001b[0m\u001b[0;34m\u001b[0m\u001b[0;34m\u001b[0m\u001b[0m\n\u001b[1;32m     32\u001b[0m \u001b[0;34m\u001b[0m\u001b[0m\n",
            "\u001b[0;31mTypeError\u001b[0m: Car() takes no arguments"
          ]
        }
      ]
    },
    {
      "cell_type": "code",
      "source": [
        "class Car:\n",
        "    def __init__(self, brand, model, year):\n",
        "        \"\"\"初始化車輛屬性\"\"\"\n",
        "        self.brand = brand\n",
        "        self.model = model\n",
        "        self.year = year\n",
        "        self.is_running = False  # 初始階段為未啟動\n",
        "\n",
        "    def start(self):\n",
        "        \"\"\"啟動車輛\"\"\"\n",
        "        if not self.is_running:\n",
        "            self.is_running = True\n",
        "            print(f\"{self.brand} {self.model} 已啟動！\")\n",
        "        else:\n",
        "            print(f\"{self.brand} {self.model} 已經在運行中！\")\n",
        "\n",
        "    def stop(self):\n",
        "        \"\"\"停止車輛\"\"\"\n",
        "        if self.is_running:\n",
        "            self.is_running = False\n",
        "            print(f\"{self.brand} {self.model} 已停止！\")\n",
        "        else:\n",
        "            print(f\"{self.brand} {self.model} 已經是停止狀態！\")\n",
        "\n",
        "    def display_info(self):\n",
        "        \"\"\"顯示車輛資訊\"\"\"\n",
        "        return f\"{self.year} {self.model} {self.brand}\"\n",
        "\n",
        "# 創建 Car 類別的實例\n",
        "my_car = Car(\"Toyota\", \"Corolla\", 2022)\n",
        "my_car2 = Car(\"Tesla\", \"Model 3\", 2023)\n",
        "\n",
        "# 顯示車輛資訊\n",
        "print(my_car.display_info())\n",
        "print(my_car2.display_info())\n",
        "\n",
        "# 嘗試啟動與停止車輛\n",
        "my_car.start()\n",
        "my_car.start()  # 再次啟動應該顯示已經在運行中\n",
        "my_car.stop()\n",
        "my_car.stop()  # 再次停止應該顯示已經是停止狀態\n"
      ],
      "metadata": {
        "colab": {
          "base_uri": "https://localhost:8080/"
        },
        "id": "izObg2A6FVRM",
        "outputId": "e4493fce-be90-40c6-f639-ce4737345628"
      },
      "execution_count": null,
      "outputs": [
        {
          "output_type": "stream",
          "name": "stdout",
          "text": [
            "2022 Corolla Toyota\n",
            "2023 Model 3 Tesla\n",
            "Toyota Corolla 已啟動！\n",
            "Toyota Corolla 已經在運行中！\n",
            "Toyota Corolla 已停止！\n",
            "Toyota Corolla 已經是停止狀態！\n"
          ]
        }
      ]
    },
    {
      "cell_type": "code",
      "source": [
        "import numpy as np\n",
        "\n",
        "#建立 numpy陳列\n",
        "a = np.array({1, 2, 3, 4, 5})\n",
        "print(a)\n",
        "\n",
        "b = np.array([[1, 2, 3] , [4, 5, 6]])\n",
        "print(b)"
      ],
      "metadata": {
        "colab": {
          "base_uri": "https://localhost:8080/"
        },
        "id": "YpEjrQ4cExNa",
        "outputId": "83c9db7a-0871-4068-9cd8-bb465c9a347e"
      },
      "execution_count": null,
      "outputs": [
        {
          "output_type": "stream",
          "name": "stdout",
          "text": [
            "{1, 2, 3, 4, 5}\n",
            "[[1 2 3]\n",
            " [4 5 6]]\n"
          ]
        }
      ]
    },
    {
      "cell_type": "code",
      "source": [
        "\n",
        "#創建全為0的陣列\n",
        "zeros = np.zeros((3, 3))\n",
        "print(zeros)\n",
        "\n",
        "#創建全為1的陣列\n",
        "ones = np.ones((3,3))\n",
        "print(ones)\n",
        "\n",
        "empty = np.empty((2,2))\n",
        "print(empty)\n",
        "\n",
        "#創建隨機數組\n",
        "random_array = np.random.random((3,3)) #0～1之間的隨機數\n",
        "print(random_array)"
      ],
      "metadata": {
        "colab": {
          "base_uri": "https://localhost:8080/"
        },
        "id": "7tG6O5PhFRTg",
        "outputId": "b4f0d675-cada-4099-f030-839154a04b35"
      },
      "execution_count": null,
      "outputs": [
        {
          "output_type": "stream",
          "name": "stdout",
          "text": [
            "[[0. 0. 0.]\n",
            " [0. 0. 0.]\n",
            " [0. 0. 0.]]\n",
            "[[1. 1. 1.]\n",
            " [1. 1. 1.]\n",
            " [1. 1. 1.]]\n",
            "[[4.06506873e-316 0.00000000e+000]\n",
            " [1.14490784e+243 6.01347002e-154]]\n",
            "[[0.85852637 0.77881366 0.20190638]\n",
            " [0.0884485  0.40310729 0.3218324 ]\n",
            " [0.77841607 0.27544252 0.40213321]]\n"
          ]
        }
      ]
    },
    {
      "cell_type": "code",
      "source": [
        "A = np.array([[1, 2], [3, 4]])\n",
        "B = np.array([[5, 6], [7, 8]])\n",
        "\n",
        "#矩陣相乘\n",
        "C = np.dot(A, B)\n",
        "print(C)\n",
        "\n",
        "#計算機轉置矩陣\n",
        "print(A.T)"
      ],
      "metadata": {
        "colab": {
          "base_uri": "https://localhost:8080/"
        },
        "id": "wRt0ClBCFlST",
        "outputId": "068faf25-220f-486f-f386-11429730cc04"
      },
      "execution_count": null,
      "outputs": [
        {
          "output_type": "stream",
          "name": "stdout",
          "text": [
            "[[19 22]\n",
            " [43 50]]\n",
            "[[1 3]\n",
            " [2 4]]\n"
          ]
        }
      ]
    },
    {
      "cell_type": "code",
      "source": [
        "arr = np.array([[1, 2, 3], [4, 5, 6], [7, 8, 9]])\n",
        "\n",
        "#取出第一列\n",
        "print(arr[:, 0]) #[1, 4, 7]\n",
        "\n",
        "#取出第二行\n",
        "print(arr[1, :]) #[4, 5, 6]\n",
        "\n",
        "#取出特定區域\n",
        "print(arr[:2, 1:]) #[[2,3], [5, 6]]\n"
      ],
      "metadata": {
        "colab": {
          "base_uri": "https://localhost:8080/"
        },
        "id": "J4YtSTfJHNXZ",
        "outputId": "cfc80ed4-17d3-4b25-df73-2ff5ea660e0f"
      },
      "execution_count": null,
      "outputs": [
        {
          "output_type": "stream",
          "name": "stdout",
          "text": [
            "[1 4 7]\n",
            "[4 5 6]\n",
            "[[2 3]\n",
            " [5 6]]\n"
          ]
        }
      ]
    },
    {
      "cell_type": "code",
      "source": [
        "data = np.array([10, 3, 8, 6, 2])\n",
        "\n",
        "#排序\n",
        "sorted_data = np.sort(data)\n",
        "print(sorted_data) #[2 3 6 8 10]\n",
        "\n",
        "#篩選大於5的值\n",
        "filtered_data = data[data> 5]\n",
        "print(filtered_data) #[10 8 6]\n",
        "print(data> 5)\n",
        "print(sorted_data> 5)"
      ],
      "metadata": {
        "colab": {
          "base_uri": "https://localhost:8080/"
        },
        "id": "FD6bZnh2K-o2",
        "outputId": "9278dcd0-2b85-4ee0-ea37-f55f4dce83c7"
      },
      "execution_count": null,
      "outputs": [
        {
          "output_type": "stream",
          "name": "stdout",
          "text": [
            "[ 2  3  6  8 10]\n",
            "[10  8  6]\n",
            "[ True False  True  True False]\n",
            "[False False  True  True  True]\n"
          ]
        }
      ]
    },
    {
      "cell_type": "code",
      "source": [
        "import numpy as np\n",
        "\n",
        "arr = np.array([1, 2, 2, 3, 3, 4, 4, 5])\n",
        "\n",
        "unique_values = np.unique(arr)\n",
        "print(unique_values)\n",
        "print(arr)"
      ],
      "metadata": {
        "colab": {
          "base_uri": "https://localhost:8080/"
        },
        "id": "GFM30LjhMIYV",
        "outputId": "be238dc4-66ef-4fc9-afee-8d08375901e6"
      },
      "execution_count": null,
      "outputs": [
        {
          "output_type": "stream",
          "name": "stdout",
          "text": [
            "[1 2 3 4 5]\n",
            "[1 2 2 3 3 4 4 5]\n"
          ]
        }
      ]
    },
    {
      "cell_type": "markdown",
      "source": [
        "1有幾個，2有幾個..."
      ],
      "metadata": {
        "id": "3VXgETObORyT"
      }
    },
    {
      "cell_type": "code",
      "source": [
        "unique_values, counts = np.unique(arr, return_counts=True)\n",
        "print(unique_values)\n",
        "print(counts)"
      ],
      "metadata": {
        "colab": {
          "base_uri": "https://localhost:8080/"
        },
        "id": "Px3aoKgnNcgK",
        "outputId": "f96c0b60-66a3-4b84-ab2a-88e0d848dfb4"
      },
      "execution_count": null,
      "outputs": [
        {
          "output_type": "stream",
          "name": "stdout",
          "text": [
            "[1 2 3 4 5]\n",
            "[1 2 2 2 1]\n"
          ]
        }
      ]
    },
    {
      "cell_type": "code",
      "source": [
        "import pandas as pd\n",
        "\n",
        "#建立字典並轉為DataFrame\n",
        "data = {\n",
        "    'Name': ['Alice', 'Bob', 'Charlie'],\n",
        "        'Age': [25, 30, 35],\n",
        "        'City': ['New York', 'San Francisco', 'Los Angeles']\n",
        "}\n",
        "\n",
        "df = pd.DataFrame(data)\n",
        "print(df)"
      ],
      "metadata": {
        "colab": {
          "base_uri": "https://localhost:8080/"
        },
        "id": "vC8M_TDvOLYi",
        "outputId": "4a1e793a-ff10-4b40-b138-f9ac441f2c80"
      },
      "execution_count": null,
      "outputs": [
        {
          "output_type": "stream",
          "name": "stdout",
          "text": [
            "      Name  Age           City\n",
            "0    Alice   25       New York\n",
            "1      Bob   30  San Francisco\n",
            "2  Charlie   35    Los Angeles\n"
          ]
        }
      ]
    },
    {
      "cell_type": "markdown",
      "source": [
        "取欄位取條件"
      ],
      "metadata": {
        "id": "hAiJbPZ1Tz2x"
      }
    },
    {
      "cell_type": "markdown",
      "source": [
        "第一次 df[\"Age\"] > 28：\n",
        "這是條件，會變成一個 True/False 的布林陣列。\n",
        "第二次 df[...]：\n",
        "這裡 df 使用剛才的布林陣列來篩選，只留下 True 的行。"
      ],
      "metadata": {
        "id": "NcU_7748T0sb"
      }
    },
    {
      "cell_type": "code",
      "source": [
        "#取得特定欄位\n",
        "print(df[\"Name\"])\n",
        "\n",
        "#篩選條件 (年齡大於 28)\n",
        "filtered_df = df[df['Age'] > 28] #有兩個df，程式是從裡面看到外面\n",
        "print(filtered_df)"
      ],
      "metadata": {
        "colab": {
          "base_uri": "https://localhost:8080/"
        },
        "id": "v2xEfyc6T3sb",
        "outputId": "cd925d1a-4608-4358-923c-9f5f03b3c142"
      },
      "execution_count": null,
      "outputs": [
        {
          "output_type": "stream",
          "name": "stdout",
          "text": [
            "0      Alice\n",
            "1        Bob\n",
            "2    Charlie\n",
            "Name: Name, dtype: object\n",
            "      Name  Age           City\n",
            "1      Bob   30  San Francisco\n",
            "2  Charlie   35    Los Angeles\n"
          ]
        }
      ]
    },
    {
      "cell_type": "code",
      "source": [
        "#新增信欄位\n",
        "df['Salary'] = [50000, 60000, 70000]\n",
        "print(df)\n",
        "\n",
        "# # 修改某些數據\n",
        "# df.loc[1, 'Salary'] = 65000\n",
        "# print(df)"
      ],
      "metadata": {
        "colab": {
          "base_uri": "https://localhost:8080/"
        },
        "id": "p9sXxPZoTvgQ",
        "outputId": "b62efa73-cfd9-476a-9156-8176343eddc4"
      },
      "execution_count": null,
      "outputs": [
        {
          "output_type": "stream",
          "name": "stdout",
          "text": [
            "      Name  Age           City  Salary\n",
            "0    Alice   25       New York   50000\n",
            "1      Bob   30  San Francisco   60000\n",
            "2  Charlie   35    Los Angeles   70000\n"
          ]
        }
      ]
    },
    {
      "cell_type": "code",
      "source": [
        "#基本統計\n",
        "print(df.describe())\n",
        "\n",
        "#計算平均年齡\n",
        "print(df[\"Age\"].mean())\n",
        "\n",
        "#計算不同程式人數\n",
        "print(df[\"City\"].value_counts())"
      ],
      "metadata": {
        "colab": {
          "base_uri": "https://localhost:8080/"
        },
        "id": "LORGyyVCT8zy",
        "outputId": "2794e19f-8b0e-4f0d-a129-2ff78214254b"
      },
      "execution_count": null,
      "outputs": [
        {
          "output_type": "stream",
          "name": "stdout",
          "text": [
            "        Age   Salary\n",
            "count   3.0      3.0\n",
            "mean   30.0  60000.0\n",
            "std     5.0  10000.0\n",
            "min    25.0  50000.0\n",
            "25%    27.5  55000.0\n",
            "50%    30.0  60000.0\n",
            "75%    32.5  65000.0\n",
            "max    35.0  70000.0\n",
            "30.0\n",
            "City\n",
            "New York         1\n",
            "San Francisco    1\n",
            "Los Angeles      1\n",
            "Name: count, dtype: int64\n"
          ]
        }
      ]
    },
    {
      "cell_type": "code",
      "source": [],
      "metadata": {
        "id": "feQeGc95T_or"
      },
      "execution_count": null,
      "outputs": []
    }
  ]
}